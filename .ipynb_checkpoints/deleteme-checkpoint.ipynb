{
 "cells": [
  {
   "cell_type": "code",
   "execution_count": null,
   "metadata": {},
   "outputs": [],
   "source": [
    "from src import *\n",
    "from writing_predictor import *\n",
    "\n",
    "df = "
   ]
  },
  {
   "cell_type": "code",
   "execution_count": 1,
   "metadata": {},
   "outputs": [
    {
     "ename": "SyntaxError",
     "evalue": "invalid syntax (<ipython-input-1-1101a52e1617>, line 37)",
     "output_type": "error",
     "traceback": [
      "\u001b[1;36m  File \u001b[1;32m\"<ipython-input-1-1101a52e1617>\"\u001b[1;36m, line \u001b[1;32m37\u001b[0m\n\u001b[1;33m    def update_output(text):\u001b[0m\n\u001b[1;37m    ^\u001b[0m\n\u001b[1;31mSyntaxError\u001b[0m\u001b[1;31m:\u001b[0m invalid syntax\n"
     ]
    }
   ],
   "source": [
    "import dash\n",
    "import dash_core_components as dcc\n",
    "import dash_html_components as html\n",
    "from dash.dependencies import Input, Output\n",
    "from writing_predictor import predict_grade\n",
    "from keras.models import load_model\n",
    "import en_core_web_sm\n",
    "\n",
    "# set initial app settings\n",
    "external_stylesheets = ['https://codepen.io/chriddyp/pen/bWLwgP.css']\n",
    "app = dash.Dash(__name__, external_stylesheets=external_stylesheets)\n",
    "server = app.server\n",
    "\n",
    "#Load the Model\n",
    "model = load_model('model-Bi-LSTM-best')\n",
    "spacy = en_core_web_sm.load()\n",
    "process = 'Grammar'\n",
    "\n",
    "# display layout and components\n",
    "app.layout = html.Div([\n",
    "    html.H2('Evaluate Children\\'s Writing Samples'),\n",
    "    html.H4('Text to evaluate'),\n",
    "    html.H5('The more you write, the more accurate it will be.'),\n",
    "    dcc.Textarea(\n",
    "        id='sample-text',\n",
    "        value='Please enter a sample to evaluate',\n",
    "        style={'width': '%100', 'height': 300},\n",
    "    ),\n",
    "    html.Div(id='sample-text-output', style={'whiteSpace': 'pre-line'})\n",
    "\n",
    "\n",
    "\n",
    "@app.callback(\n",
    "    Output('sample-text-output', 'children'),\n",
    "    Input('sample-text', 'value')\n",
    ")\n",
    "def update_output(text):\n",
    "    if len(text) > 1:\n",
    "        return predict_grade(model, text, process, spacy)\n",
    "    else:\n",
    "        return 0\n",
    "\n",
    "\n",
    "\n",
    "if __name__ == '__main__':\n",
    "    app.run_server(debug=True)\n"
   ]
  },
  {
   "cell_type": "code",
   "execution_count": null,
   "metadata": {},
   "outputs": [],
   "source": []
  }
 ],
 "metadata": {
  "kernelspec": {
   "display_name": "Python 3",
   "language": "python",
   "name": "python3"
  },
  "language_info": {
   "codemirror_mode": {
    "name": "ipython",
    "version": 3
   },
   "file_extension": ".py",
   "mimetype": "text/x-python",
   "name": "python",
   "nbconvert_exporter": "python",
   "pygments_lexer": "ipython3",
   "version": "3.8.3"
  }
 },
 "nbformat": 4,
 "nbformat_minor": 4
}
