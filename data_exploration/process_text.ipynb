{
 "cells": [
  {
   "cell_type": "code",
   "execution_count": 289,
   "metadata": {
    "extensions": {
     "jupyter_dashboards": {
      "activeView": "grid_default",
      "views": {
       "grid_default": {
        "col": null,
        "height": 2,
        "hidden": true,
        "row": null,
        "width": 2
       }
      }
     }
    }
   },
   "outputs": [],
   "source": [
    "import pandas as pd\n",
    "from nltk.corpus import wordnet\n",
    "from nltk.stem import WordNetLemmatizer\n",
    "from nltk import pos_tag\n",
    "\n",
    "from string import punctuation\n",
    "\n",
    "from sklearn.model_selection import train_test_split\n",
    "from sklearn.feature_extraction.text import TfidfVectorizer\n",
    "\n",
    "import re"
   ]
  },
  {
   "cell_type": "code",
   "execution_count": 310,
   "metadata": {
    "extensions": {
     "jupyter_dashboards": {
      "activeView": "grid_default",
      "views": {
       "grid_default": {
        "col": null,
        "height": 2,
        "hidden": true,
        "row": null,
        "width": 2
       }
      }
     }
    },
    "scrolled": true
   },
   "outputs": [
    {
     "data": {
      "text/html": [
       "<div>\n",
       "<style scoped>\n",
       "    .dataframe tbody tr th:only-of-type {\n",
       "        vertical-align: middle;\n",
       "    }\n",
       "\n",
       "    .dataframe tbody tr th {\n",
       "        vertical-align: top;\n",
       "    }\n",
       "\n",
       "    .dataframe thead th {\n",
       "        text-align: right;\n",
       "    }\n",
       "</style>\n",
       "<table border=\"1\" class=\"dataframe\">\n",
       "  <thead>\n",
       "    <tr style=\"text-align: right;\">\n",
       "      <th></th>\n",
       "      <th>Grade</th>\n",
       "      <th>Text</th>\n",
       "    </tr>\n",
       "  </thead>\n",
       "  <tbody>\n",
       "    <tr>\n",
       "      <th>284</th>\n",
       "      <td>0</td>\n",
       "      <td>Make Way for Ducklings I like Make Way for Duc...</td>\n",
       "    </tr>\n",
       "    <tr>\n",
       "      <th>285</th>\n",
       "      <td>0</td>\n",
       "      <td>My mom is special because she plays with me.</td>\n",
       "    </tr>\n",
       "    <tr>\n",
       "      <th>286</th>\n",
       "      <td>11</td>\n",
       "      <td>To whom it may concern: A group of parents and...</td>\n",
       "    </tr>\n",
       "    <tr>\n",
       "      <th>287</th>\n",
       "      <td>9</td>\n",
       "      <td>To Teachers and Whom It May Concern: A proposa...</td>\n",
       "    </tr>\n",
       "    <tr>\n",
       "      <th>288</th>\n",
       "      <td>6</td>\n",
       "      <td>Tom Sawyer Having complicated characters in a ...</td>\n",
       "    </tr>\n",
       "  </tbody>\n",
       "</table>\n",
       "</div>"
      ],
      "text/plain": [
       "     Grade                                               Text\n",
       "284      0  Make Way for Ducklings I like Make Way for Duc...\n",
       "285      0       My mom is special because she plays with me.\n",
       "286     11  To whom it may concern: A group of parents and...\n",
       "287      9  To Teachers and Whom It May Concern: A proposa...\n",
       "288      6  Tom Sawyer Having complicated characters in a ..."
      ]
     },
     "execution_count": 310,
     "metadata": {},
     "output_type": "execute_result"
    }
   ],
   "source": [
    "df_with_titles = pd.read_csv('../data/samples_with_titles.csv',\n",
    "                   skipinitialspace=True,\n",
    "                   sep=',', \n",
    "                   quotechar='\"', \n",
    "                   escapechar='\\\\',\n",
    "                   error_bad_lines=False,\n",
    "                    usecols = ['Grade','Text'])\n",
    "df_with_titles.Text = df_with_titles.Text.str[1:-1]\n",
    "df_with_titles.tail()"
   ]
  },
  {
   "cell_type": "code",
   "execution_count": 309,
   "metadata": {},
   "outputs": [
    {
     "name": "stdout",
     "output_type": "stream",
     "text": [
      "<class 'pandas.core.frame.DataFrame'>\n",
      "RangeIndex: 289 entries, 0 to 288\n",
      "Data columns (total 2 columns):\n",
      " #   Column  Non-Null Count  Dtype \n",
      "---  ------  --------------  ----- \n",
      " 0   Grade   289 non-null    int64 \n",
      " 1   Text    289 non-null    object\n",
      "dtypes: int64(1), object(1)\n",
      "memory usage: 4.6+ KB\n"
     ]
    }
   ],
   "source": [
    "df.info()"
   ]
  },
  {
   "cell_type": "code",
   "execution_count": 315,
   "metadata": {
    "extensions": {
     "jupyter_dashboards": {
      "activeView": "grid_default",
      "views": {
       "grid_default": {
        "col": null,
        "height": 2,
        "hidden": true,
        "row": null,
        "width": 2
       }
      }
     }
    },
    "scrolled": true
   },
   "outputs": [
    {
     "name": "stdout",
     "output_type": "stream",
     "text": [
      "<class 'pandas.core.frame.DataFrame'>\n",
      "RangeIndex: 323 entries, 0 to 322\n",
      "Data columns (total 2 columns):\n",
      " #   Column  Non-Null Count  Dtype \n",
      "---  ------  --------------  ----- \n",
      " 0   Grade   323 non-null    int64 \n",
      " 1   Text    323 non-null    object\n",
      "dtypes: int64(1), object(1)\n",
      "memory usage: 5.2+ KB\n"
     ]
    }
   ],
   "source": [
    "df = pd.read_csv('../data/samples_no_title.csv',\n",
    "                   skipinitialspace=True,\n",
    "                   sep=',', \n",
    "                   quotechar='\"', \n",
    "                   escapechar='\\\\',\n",
    "                   error_bad_lines=False,\n",
    "                    usecols = ['Grade','Text'])\n",
    "df.loc[df['Grade'].isin([10,11,12]),'Grade'] = 10\n",
    "df.info()"
   ]
  },
  {
   "cell_type": "code",
   "execution_count": 316,
   "metadata": {
    "extensions": {
     "jupyter_dashboards": {
      "activeView": "grid_default",
      "views": {
       "grid_default": {
        "col": null,
        "height": 2,
        "hidden": true,
        "row": null,
        "width": 2
       }
      }
     }
    }
   },
   "outputs": [
    {
     "data": {
      "text/plain": [
       "0     21\n",
       "1     32\n",
       "2     39\n",
       "3     36\n",
       "4     38\n",
       "5     20\n",
       "6     49\n",
       "7     10\n",
       "8     11\n",
       "9     47\n",
       "10    20\n",
       "Name: Grade, dtype: int64"
      ]
     },
     "execution_count": 316,
     "metadata": {},
     "output_type": "execute_result"
    }
   ],
   "source": [
    "df.Grade.value_counts().sort_index()"
   ]
  },
  {
   "cell_type": "markdown",
   "metadata": {
    "extensions": {
     "jupyter_dashboards": {
      "activeView": "grid_default",
      "views": {
       "grid_default": {
        "col": null,
        "height": 2,
        "hidden": true,
        "row": null,
        "width": 2
       }
      }
     }
    }
   },
   "source": [
    "nltk_tag_to_wordnet_tag() courtesy of [Gaurav Gupta](https://medium.com/@gaurav5430/using-nltk-for-lemmatizing-sentences-c1bfff963258)"
   ]
  },
  {
   "cell_type": "code",
   "execution_count": 323,
   "metadata": {
    "extensions": {
     "jupyter_dashboards": {
      "activeView": "grid_default",
      "views": {
       "grid_default": {
        "col": null,
        "height": 2,
        "hidden": true,
        "row": null,
        "width": 2
       }
      }
     }
    }
   },
   "outputs": [],
   "source": [
    "def unique_characters(series):\n",
    "    unique = set([])\n",
    "    for text in series:\n",
    "        characters = set(text)\n",
    "        unique = unique.union(characters)\n",
    "    return unique\n",
    "\n",
    "def nltk_tag_to_wordnet_tag(nltk_tag):\n",
    "    if nltk_tag.startswith('J'):\n",
    "        return wordnet.ADJ\n",
    "    elif nltk_tag.startswith('V'):\n",
    "        return wordnet.VERB\n",
    "    elif nltk_tag.startswith('N'):\n",
    "        return wordnet.NOUN\n",
    "    elif nltk_tag.startswith('R'):\n",
    "        return wordnet.ADV\n",
    "    else:          \n",
    "        return None    \n",
    "    \n",
    "def retag(tagged_list):\n",
    "    return [(w[0], nltk_tag_to_wordnet_tag(w[1])) for w in tagged_list]\n",
    "\n",
    "def lemma(tagged_tokens):\n",
    "    lemmatizer = WordNetLemmatizer()\n",
    "    lemmas = []\n",
    "    for w in tagged_tokens:\n",
    "        if w[1] is None:\n",
    "            lemmas.append(lemmatizer.lemmatize(w[0]))\n",
    "        else:\n",
    "            lemmas.append(lemmatizer.lemmatize(w[0],w[1]))                   \n",
    "    return lemmas\n",
    "\n",
    "def lower_case(string):\n",
    "    return string.lower()\n",
    "\n",
    "def letters(string):\n",
    "    letters = re.findall('[a-z]+',string)\n",
    "    return letters\n",
    "\n",
    "def clean_tokenize(series):\n",
    "    return series.apply(lower_case).apply(letters)\n",
    "\n",
    "def lemmatize(series):\n",
    "    return series.apply(pos_tag).apply(retag).apply(lemma)\n",
    "\n",
    "def replace_urls(series):\n",
    "    return series.str.replace('www.','',regex=False).replace('\\w*\\.\\w{2,}', value = \"*url\", regex=True)\n",
    "\n",
    "def isolate_punctuation(string):\n",
    "    for punct in punctuation.replace('*',''):\n",
    "        string = string.replace(punct,f' {punct} ').replace('  ',' ')\n",
    "    return string\n",
    "\n",
    "def tag_uppercase(series):\n",
    "    repl = lambda w: f'+ {w.group(0).lower()}'\n",
    "    return series.str.replace('[A-Z]\\w+',repl,regex=True)\n",
    "\n",
    "def remove_weird_chars(string):\n",
    "    weird_chars = [ '¦', '©', '±', '³', '½', 'Â', 'Ã', 'â', '“', '”', '€']\n",
    "    return ''.join([c for c in string if c not in weird_chars])\n",
    "\n",
    "def grammar_text(series):\n",
    "    series = replace_urls(series)\n",
    "    series = series.apply(remove_weird_chars).apply(isolate_punctuation)\n",
    "    series = tag_uppercase(series)\n",
    "    return series\n",
    "\n",
    "def lemma_text(series):\n",
    "    series = clean_tokenize(series)\n",
    "    series = lemmatize(series)\n",
    "    return series\n",
    "\n",
    "def process_text(df):\n",
    "    df['lemmatized'] = lemma_text(df.Text).str.join(' ')\n",
    "    df['grammarized'] = grammar_text(df.Text)\n",
    "    return df"
   ]
  },
  {
   "cell_type": "code",
   "execution_count": 324,
   "metadata": {
    "extensions": {
     "jupyter_dashboards": {
      "activeView": "grid_default",
      "views": {
       "grid_default": {
        "col": null,
        "height": 2,
        "hidden": true,
        "row": null,
        "width": 2
       }
      }
     }
    }
   },
   "outputs": [
    {
     "data": {
      "text/html": [
       "<div>\n",
       "<style scoped>\n",
       "    .dataframe tbody tr th:only-of-type {\n",
       "        vertical-align: middle;\n",
       "    }\n",
       "\n",
       "    .dataframe tbody tr th {\n",
       "        vertical-align: top;\n",
       "    }\n",
       "\n",
       "    .dataframe thead th {\n",
       "        text-align: right;\n",
       "    }\n",
       "</style>\n",
       "<table border=\"1\" class=\"dataframe\">\n",
       "  <thead>\n",
       "    <tr style=\"text-align: right;\">\n",
       "      <th></th>\n",
       "      <th>Grade</th>\n",
       "      <th>Text</th>\n",
       "      <th>lemmatized</th>\n",
       "      <th>grammarized</th>\n",
       "    </tr>\n",
       "  </thead>\n",
       "  <tbody>\n",
       "    <tr>\n",
       "      <th>0</th>\n",
       "      <td>1</td>\n",
       "      <td>I had just gone to Chobot Space and Science Ce...</td>\n",
       "      <td>i have just go to chobot space and science cen...</td>\n",
       "      <td>I had just gone to + chobot + space and + scie...</td>\n",
       "    </tr>\n",
       "    <tr>\n",
       "      <th>1</th>\n",
       "      <td>1</td>\n",
       "      <td>My cat is fluffy. His name is Buzz. He is my f...</td>\n",
       "      <td>my cat be fluffy his name be buzz he be my fav...</td>\n",
       "      <td>+ my cat is fluffy . + his name is + buzz . + ...</td>\n",
       "    </tr>\n",
       "    <tr>\n",
       "      <th>2</th>\n",
       "      <td>1</td>\n",
       "      <td>Spring is sweet because we can go boat riding ...</td>\n",
       "      <td>spring be sweet because we can go boat riding ...</td>\n",
       "      <td>+ spring is sweet because we can go boat ridin...</td>\n",
       "    </tr>\n",
       "    <tr>\n",
       "      <th>3</th>\n",
       "      <td>1</td>\n",
       "      <td>One day baby Josh came home. He was in a yello...</td>\n",
       "      <td>one day baby josh come home he be in a yellow ...</td>\n",
       "      <td>+ one day baby + josh came home . + he was in ...</td>\n",
       "    </tr>\n",
       "    <tr>\n",
       "      <th>4</th>\n",
       "      <td>1</td>\n",
       "      <td>One time I went to Mexico. It was a blast! I m...</td>\n",
       "      <td>one time i go to mexico it be a blast i meet p...</td>\n",
       "      <td>+ one time I went to + mexico . + it was a bla...</td>\n",
       "    </tr>\n",
       "    <tr>\n",
       "      <th>...</th>\n",
       "      <td>...</td>\n",
       "      <td>...</td>\n",
       "      <td>...</td>\n",
       "      <td>...</td>\n",
       "    </tr>\n",
       "    <tr>\n",
       "      <th>318</th>\n",
       "      <td>10</td>\n",
       "      <td>America in the years leading up to 1918 was as...</td>\n",
       "      <td>america in the year lead up to be a confident ...</td>\n",
       "      <td>+ america in the years leading up to 1918 was ...</td>\n",
       "    </tr>\n",
       "    <tr>\n",
       "      <th>319</th>\n",
       "      <td>10</td>\n",
       "      <td>The modern world is full of problems and issue...</td>\n",
       "      <td>the modern world be full of problem and issue ...</td>\n",
       "      <td>+ the modern world is full of problems and iss...</td>\n",
       "    </tr>\n",
       "    <tr>\n",
       "      <th>320</th>\n",
       "      <td>10</td>\n",
       "      <td>The violin is arguably the most cherished and ...</td>\n",
       "      <td>the violin be arguably the most cherished and ...</td>\n",
       "      <td>+ the violin is arguably the most cherished an...</td>\n",
       "    </tr>\n",
       "    <tr>\n",
       "      <th>321</th>\n",
       "      <td>10</td>\n",
       "      <td>Have you ever wondered how to design complex w...</td>\n",
       "      <td>have you ever wonder how to design complex woo...</td>\n",
       "      <td>+ have you ever wondered how to design complex...</td>\n",
       "    </tr>\n",
       "    <tr>\n",
       "      <th>322</th>\n",
       "      <td>10</td>\n",
       "      <td>Welding is a highly demanded trade across the ...</td>\n",
       "      <td>welding be a highly demanded trade across the ...</td>\n",
       "      <td>+ welding is a highly demanded trade across th...</td>\n",
       "    </tr>\n",
       "  </tbody>\n",
       "</table>\n",
       "<p>323 rows × 4 columns</p>\n",
       "</div>"
      ],
      "text/plain": [
       "     Grade                                               Text  \\\n",
       "0        1  I had just gone to Chobot Space and Science Ce...   \n",
       "1        1  My cat is fluffy. His name is Buzz. He is my f...   \n",
       "2        1  Spring is sweet because we can go boat riding ...   \n",
       "3        1  One day baby Josh came home. He was in a yello...   \n",
       "4        1  One time I went to Mexico. It was a blast! I m...   \n",
       "..     ...                                                ...   \n",
       "318     10  America in the years leading up to 1918 was as...   \n",
       "319     10  The modern world is full of problems and issue...   \n",
       "320     10  The violin is arguably the most cherished and ...   \n",
       "321     10  Have you ever wondered how to design complex w...   \n",
       "322     10  Welding is a highly demanded trade across the ...   \n",
       "\n",
       "                                            lemmatized  \\\n",
       "0    i have just go to chobot space and science cen...   \n",
       "1    my cat be fluffy his name be buzz he be my fav...   \n",
       "2    spring be sweet because we can go boat riding ...   \n",
       "3    one day baby josh come home he be in a yellow ...   \n",
       "4    one time i go to mexico it be a blast i meet p...   \n",
       "..                                                 ...   \n",
       "318  america in the year lead up to be a confident ...   \n",
       "319  the modern world be full of problem and issue ...   \n",
       "320  the violin be arguably the most cherished and ...   \n",
       "321  have you ever wonder how to design complex woo...   \n",
       "322  welding be a highly demanded trade across the ...   \n",
       "\n",
       "                                           grammarized  \n",
       "0    I had just gone to + chobot + space and + scie...  \n",
       "1    + my cat is fluffy . + his name is + buzz . + ...  \n",
       "2    + spring is sweet because we can go boat ridin...  \n",
       "3    + one day baby + josh came home . + he was in ...  \n",
       "4    + one time I went to + mexico . + it was a bla...  \n",
       "..                                                 ...  \n",
       "318  + america in the years leading up to 1918 was ...  \n",
       "319  + the modern world is full of problems and iss...  \n",
       "320  + the violin is arguably the most cherished an...  \n",
       "321  + have you ever wondered how to design complex...  \n",
       "322  + welding is a highly demanded trade across th...  \n",
       "\n",
       "[323 rows x 4 columns]"
      ]
     },
     "execution_count": 324,
     "metadata": {},
     "output_type": "execute_result"
    }
   ],
   "source": [
    "df = process_text(df)\n",
    "df"
   ]
  },
  {
   "cell_type": "code",
   "execution_count": 325,
   "metadata": {
    "extensions": {
     "jupyter_dashboards": {
      "activeView": "grid_default",
      "views": {
       "grid_default": {
        "col": null,
        "height": 2,
        "hidden": true,
        "row": null,
        "width": 2
       }
      }
     }
    }
   },
   "outputs": [],
   "source": [
    "df.to_csv('processed_text', index=False)"
   ]
  },
  {
   "cell_type": "code",
   "execution_count": null,
   "metadata": {},
   "outputs": [],
   "source": []
  }
 ],
 "metadata": {
  "extensions": {
   "jupyter_dashboards": {
    "activeView": "grid_default",
    "version": 1,
    "views": {
     "grid_default": {
      "cellMargin": 10,
      "defaultCellHeight": 60,
      "maxColumns": 12,
      "name": "grid",
      "type": "grid"
     }
    }
   }
  },
  "kernelspec": {
   "display_name": "Python 3",
   "language": "python",
   "name": "python3"
  },
  "language_info": {
   "codemirror_mode": {
    "name": "ipython",
    "version": 3
   },
   "file_extension": ".py",
   "mimetype": "text/x-python",
   "name": "python",
   "nbconvert_exporter": "python",
   "pygments_lexer": "ipython3",
   "version": "3.8.3"
  }
 },
 "nbformat": 4,
 "nbformat_minor": 4
}
