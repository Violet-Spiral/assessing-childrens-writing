{
 "cells": [
  {
   "cell_type": "code",
   "execution_count": null,
   "metadata": {
    "id": "5QF0aa5kOYCQ"
   },
   "outputs": [],
   "source": [
    "import pandas as pd\n",
    "import numpy as np\n",
    "import matplotlib.pyplot as plt\n",
    "import spacy\n",
    "\n",
    "import tensorflow as tf\n",
    "\n",
    "import keras\n",
    "from keras.preprocessing.sequence import pad_sequences\n",
    "from keras.layers import Input, Dense, LSTM, Embedding, Flatten, \\\n",
    "Dropout, Activation, Bidirectional, GlobalMaxPool1D\n",
    "from keras.layers.experimental.preprocessing import TextVectorization\n",
    "from keras.models import Sequential, load_model\n",
    "from keras import initializers, regularizers, optimizers, layers\n",
    "from keras.utils import plot_model\n",
    "from keras.callbacks import ModelCheckpoint\n",
    "from keras.initializers import Constant\n",
    "\n",
    "\n",
    "# !pip install -q -U keras-tuner\n",
    "# import kerastuner as kt\n",
    "\n",
    "import IPython\n",
    "from wordcloud import WordCloud\n",
    "import seaborn as sns\n",
    "\n",
    "from sklearn.model_selection import train_test_split\n",
    "\n",
    "import re\n",
    "\n",
    "from nltk import pos_tag\n",
    "from nltk.tokenize import regexp_tokenize, word_tokenize, RegexpTokenizer\n",
    "from nltk.corpus import stopwords, wordnet\n",
    "from nltk.stem import WordNetLemmatizer \n",
    "\n",
    "from gensim.models import word2vec\n",
    "\n",
    "from IPython.display import display \n",
    "\n",
    "import seaborn as sns\n",
    "import matplotlib.pyplot as plt\n",
    "from src import load_text, get_word_index\n",
    "\n",
    "!python -m spacy download en_core_web_lg\n",
    "import en_core_web_lg\n",
    "\n",
    "\n",
    "sns.set(context = 'notebook', style = 'whitegrid')\n",
    "pd.set_option('display.max_colwidth', None)\n",
    "pd.set_option('display.max_rows',50)"
   ]
  },
  {
   "cell_type": "markdown",
   "metadata": {
    "id": "my6ULQUUDphy"
   },
   "source": [
    "https://towardsdatascience.com/hands-on-nlp-deep-learning-model-preparation-in-tensorflow-2-x-2e8c9f3c7633\n",
    "\n",
    "GloVe embeddigns thanks to Jeffrey Pennington, Richard Socher, and Christopher D. Manning. 2014. GloVe: Global Vectors for Word Representation. [pdf] [bib]\n",
    "\n",
    "\n"
   ]
  },
  {
   "cell_type": "markdown",
   "metadata": {
    "id": "kJRkd15UI5wN"
   },
   "source": [
    "Thanks to https://keras.io/examples/nlp/pretrained_word_embeddings/ and Kefei Mo https://towardsdatascience.com/hands-on-nlp-deep-learning-model-preparation-in-tensorflow-2-x-2e8c9f3c7633 \n",
    "\n",
    "for the below"
   ]
  },
  {
   "cell_type": "code",
   "execution_count": null,
   "metadata": {
    "id": "vJ73328RLVIT"
   },
   "outputs": [],
   "source": [
    "df = load_text(sentences=True, grammarize=False)\n",
    "word_index = get_word_index(text)\n",
    "X = df.Text\n",
    "y = df.Grade"
   ]
  },
  {
   "cell_type": "code",
   "execution_count": null,
   "metadata": {
    "id": "E0KTl112RMKF"
   },
   "outputs": [],
   "source": [
    "sns.barplot(x=y.unique(),y=y.value_counts())"
   ]
  },
  {
   "cell_type": "code",
   "execution_count": null,
   "metadata": {
    "id": "dAjaCpocSIa1"
   },
   "outputs": [],
   "source": [
    "for grade in sorted(df.Grade.unique()):\n",
    "    text = ' '.join([story for story in df.loc[df.Grade == grade, 'Text']])\n",
    "    wordcloud = WordCloud().generate(text)\n",
    "    plt.figure(figsize=(15,12))\n",
    "    plt.imshow(wordcloud)\n",
    "    plt.title('Grade {}'.format(grade))\n",
    "    plt.axis('off')\n",
    "    plt.show()"
   ]
  },
  {
   "cell_type": "code",
   "execution_count": null,
   "metadata": {
    "id": "ptOMrHd7bFAG"
   },
   "outputs": [],
   "source": [
    "X_train.str.len().max()"
   ]
  },
  {
   "cell_type": "code",
   "execution_count": null,
   "metadata": {
    "id": "hEAiTpQIIP9Q"
   },
   "outputs": [],
   "source": [
    "X_train, X_test, y_train, y_test = train_test_split(X, y, random_state = 42, test_size = 0.2)\n",
    "X_t, X_val, y_t, y_val = train_test_split(X_train, y_train, random_state = 42, test_size = 0.2)\n",
    "#fit the vectorizer on the text and extract the corpus vocabulary\n",
    "longest_sentence = X_train.str.len().max()\n",
    "Vectorizer = TextVectorization(output_sequence_length=longest_sentence)\n",
    "Vectorizer.adapt(X_train.to_numpy())\n",
    "vocab = Vectorizer.get_vocabulary()\n",
    "nlp = en_core_web_lg.load()\n",
    "\n",
    "#generate the embedding matrix\n",
    "num_tokens = len(vocab)\n",
    "embedding_dim = len(nlp('The').vector)\n",
    "embedding_matrix = np.zeros((num_tokens, embedding_dim))\n",
    "for i, word in enumerate(vocab):\n",
    "    embedding_matrix[i] = nlp(word).vector\n",
    "\n",
    "#Load the embedding matrix as the weights matrix for the embedding layer and set trainable to False\n",
    "Embedding_layer=Embedding(\n",
    "    num_tokens,\n",
    "    embedding_dim,\n",
    "    embeddings_initializer=Constant(embedding_matrix),\n",
    "    trainable=False)\n"
   ]
  },
  {
   "cell_type": "code",
   "execution_count": null,
   "metadata": {
    "id": "FdNUZObBTbZx"
   },
   "outputs": [],
   "source": [
    "Vectorizer2 = TextVectorization(output_mode='count', max_tokens=2000)\n",
    "Vectorizer2.adapt(X_train.to_numpy())\n",
    "model = Sequential()\n",
    "model.add(Input(shape=(1,), dtype=tf.string))\n",
    "model.add(Vectorizer2)\n",
    "model.add(Dense(128, activation='relu'))\n",
    "model.add(Dropout(rate=.2))\n",
    "model.add(Dense(128, activation='relu'))\n",
    "model.add(Dropout(rate=.2))\n",
    "model.add(Dense(128, activation='relu'))\n",
    "model.add(Dropout(rate=.2))\n",
    "model.add(Dense(128, activation='relu'))\n",
    "model.add(Dropout(rate=.2))\n",
    "model.add(Dense(64, activation='relu'))\n",
    "model.add(Dropout(rate=.2))\n",
    "model.add(Dense(64, activation='relu'))\n",
    "model.add(Dropout(rate=.2))\n",
    "model.add(Dense(64, activation='relu'))\n",
    "model.add(Dropout(rate=.2))\n",
    "model.add(Dense(32, activation='relu'))\n",
    "model.add(Dropout(rate=.2))\n",
    "model.add(Dense(32, activation='relu'))\n",
    "model.add(Dropout(rate=.2))\n",
    "model.add(Dense(32, activation='relu'))\n",
    "model.add(Dropout(rate=.2))\n",
    "model.add(Dense(1, activation='relu'))\n",
    "sgd = optimizers.SGD(learning_rate=0.1, decay=1e-2)\n",
    "model.compile(optimizer='adam', loss='mean_absolute_error')\n",
    "filepath = 'best-MLP'\n",
    "checkpoint = ModelCheckpoint(filepath, monitor='val_loss', verbose=1, \n",
    "                             save_best_only=True,\n",
    "                             mode='min',\n",
    "                             save_format='tf'\n",
    "                             )\n",
    "callbacks = [checkpoint]\n",
    "\n",
    "history = model.fit(X_train,\n",
    "            y_train,\n",
    "            epochs=100,\n",
    "            batch_size=100,\n",
    "            validation_split = .2,\n",
    "            verbose=1,\n",
    "            callbacks=callbacks)\n",
    "\n",
    "plt.plot(history.history['loss'], label='Training Loss')\n",
    "plt.plot(history.history['val_loss'], label='Validation Loss')\n",
    "plt.legend()\n",
    "plt.show()\n",
    "\n",
    "model = keras.models.load_model(filepath)\n",
    "yhat = model.predict(X_test).ravel()\n",
    "print('MAE = ', np.sum(np.abs(y_test-yhat))/len(y_test))\n",
    "print('mean grade prediction = ', np.mean(model.predict(X_test)))\n",
    "print('mean grade = ', np.mean(y_test))\n",
    "\n",
    "errors = df.loc[y_test.index][['Text','Grade']]\n",
    "errors['Predicted Grade'] = yhat\n",
    "errors.sample(5)"
   ]
  },
  {
   "cell_type": "code",
   "execution_count": null,
   "metadata": {
    "id": "_r0K79ESKY1A"
   },
   "outputs": [],
   "source": [
    "filepath = 'model-best'\n",
    "model = Sequential()\n",
    "model.add(Input(shape=(1,), dtype=tf.string))\n",
    "model.add(Vectorizer)\n",
    "model.add(embedding_layer)\n",
    "model.add(LSTM(100, return_sequences=True))\n",
    "model.add(GlobalMaxPool1D())\n",
    "model.add(Dropout(0.5))\n",
    "model.add(Dense(128, activation='relu', \n",
    "                kernel_regularizer = regularizers.l1_l2(l1=1e-5, l2=1e-4)))\n",
    "model.add(Dropout(0.5))\n",
    "model.add(Dense(64, activation='relu', \n",
    "                kernel_regularizer = regularizers.l1_l2(l1=1e-5, l2=1e-4)))  \n",
    "model.add(Dropout(0.5))\n",
    "model.add(Dense(32, activation='relu', \n",
    "                kernel_regularizer = regularizers.l1_l2(l1=1e-5, l2=1e-4)))  \n",
    "model.add(Dropout(0.3))\n",
    "model.add(Dense(16, activation='relu', \n",
    "                kernel_regularizer = regularizers.l1_l2(l1=1e-5, l2=1e-4))) \n",
    "model.add(Dropout(0.3))\n",
    "\n",
    "model.add(Dense(1))\n",
    "\n",
    "adam = optimizers.Adam(learning_rate=.01, decay=1e-3)\n",
    "model.compile(optimizer = adam, loss = 'mean_absolute_error', metrics = None)\n",
    "\n",
    "print(model.summary())\n",
    "checkpoint = ModelCheckpoint(filepath, monitor='val_loss',verbose=1, \n",
    "                             save_best_only=True,\n",
    "                             mode='min',\n",
    "                             save_format='tf')\n",
    "callbacks = [checkpoint]\n",
    "\n",
    "history = model.fit(X_train, y_train,\n",
    "                     batch_size=100,\n",
    "                     epochs=100,\n",
    "                     validation_split=.2,\n",
    "                    callbacks=callbacks\n",
    "                    )\n",
    "\n",
    "plt.plot(history.history['loss'], label='Training Loss')\n",
    "plt.plot(history.history['val_loss'], label='Validation Loss')\n",
    "plt.legend()\n",
    "plt.show()\n",
    "\n",
    "model = keras.models.load_model(filepath)\n",
    "yhat = model.predict(X_test).ravel()\n",
    "print('MAE = ', np.sum(np.abs(y_test-yhat))/len(y_test))\n",
    "print('mean grade prediction = ', np.mean(model.predict(X_test)))\n",
    "print('mean grade = ', np.mean(y_test))\n",
    "\n",
    "errors = df.loc[y_test.index][['Text','Grade']]\n",
    "errors['Predicted Grade'] = yhat\n",
    "errors.sample(5)"
   ]
  }
 ],
 "metadata": {
  "accelerator": "GPU",
  "colab": {
   "collapsed_sections": [],
   "machine_shape": "hm",
   "name": "multi_model.ipynb",
   "private_outputs": true,
   "provenance": []
  },
  "kernelspec": {
   "display_name": "Python 3",
   "language": "python",
   "name": "python3"
  },
  "language_info": {
   "codemirror_mode": {
    "name": "ipython",
    "version": 3
   },
   "file_extension": ".py",
   "mimetype": "text/x-python",
   "name": "python",
   "nbconvert_exporter": "python",
   "pygments_lexer": "ipython3",
   "version": "3.8.3"
  }
 },
 "nbformat": 4,
 "nbformat_minor": 1
}
