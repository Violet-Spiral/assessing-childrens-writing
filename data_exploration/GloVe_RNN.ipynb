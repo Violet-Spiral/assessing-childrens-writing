{
 "cells": [
  {
   "cell_type": "code",
   "execution_count": 2,
   "metadata": {
    "id": "5QF0aa5kOYCQ"
   },
   "outputs": [],
   "source": [
    "import pandas as pd\n",
    "import numpy as np\n",
    "import matplotlib.pyplot as plt\n",
    "import spacy\n",
    "# nltk.download('stopwords')\n",
    "from nltk.corpus import stopwords\n",
    "import tensorflow as tf\n",
    "\n",
    "import keras\n",
    "from keras.preprocessing.sequence import pad_sequences\n",
    "from keras.layers import Input, Dense, LSTM, Embedding, Flatten\n",
    "from keras.layers import Dropout, Activation, Bidirectional, GlobalMaxPool1D\n",
    "from keras.models import Sequential\n",
    "from keras import initializers, regularizers, optimizers, layers\n",
    "from keras.utils import plot_model\n",
    "from keras.callbacks import ModelCheckpoint\n",
    "\n",
    "\n",
    "# !pip install -q -U keras-tuner\n",
    "import kerastuner as kt\n",
    "\n",
    "import IPython\n",
    "\n",
    "\n",
    "from sklearn.model_selection import train_test_split\n",
    "\n",
    "import re\n",
    "\n",
    "from nltk import pos_tag\n",
    "from nltk.tokenize import regexp_tokenize, word_tokenize, RegexpTokenizer\n",
    "from nltk.corpus import stopwords, wordnet\n",
    "from nltk.stem import WordNetLemmatizer \n",
    "\n",
    "from gensim.models import word2vec\n",
    "\n",
    "from IPython.display import display \n",
    "\n",
    "import seaborn as sns\n",
    "import matplotlib.pyplot as plt\n",
    "from src import load_text, get_word_index\n",
    "\n",
    "\n",
    "sns.set(context = 'notebook', style = 'whitegrid')\n",
    "pd.set_option('display.max_colwidth', None)\n",
    "pd.set_option('display.max_rows',50)"
   ]
  },
  {
   "cell_type": "code",
   "execution_count": 3,
   "metadata": {
    "id": "XOzdawrkrxiU"
   },
   "outputs": [],
   "source": [
    "\n",
    "\n"
   ]
  },
  {
   "cell_type": "markdown",
   "metadata": {
    "id": "my6ULQUUDphy"
   },
   "source": [
    "Below text thanks to:https://www.kaggle.com/jjjohnson/experiments-sentiment-analysis-raw-data-gru-lstm/edit\n",
    "\n",
    "https://towardsdatascience.com/hands-on-nlp-deep-learning-model-preparation-in-tensorflow-2-x-2e8c9f3c7633\n",
    "\n",
    "GloVe embeddigns thanks to Jeffrey Pennington, Richard Socher, and Christopher D. Manning. 2014. GloVe: Global Vectors for Word Representation. [pdf] [bib]\n",
    "\n",
    "\n"
   ]
  },
  {
   "cell_type": "markdown",
   "metadata": {
    "id": "kJRkd15UI5wN"
   },
   "source": [
    "Thanks to https://keras.io/examples/nlp/pretrained_word_embeddings/ and Kefei Mo https://towardsdatascience.com/hands-on-nlp-deep-learning-model-preparation-in-tensorflow-2-x-2e8c9f3c7633 \n",
    "\n",
    "for the below"
   ]
  },
  {
   "cell_type": "code",
   "execution_count": 28,
   "metadata": {},
   "outputs": [
    {
     "data": {
      "text/plain": [
       "489"
      ]
     },
     "execution_count": 28,
     "metadata": {},
     "output_type": "execute_result"
    }
   ],
   "source": [
    "df = load_text(sentences=True, grammarize=True)\n",
    "word_index = get_word_index(df)"
   ]
  },
  {
   "cell_type": "code",
   "execution_count": 38,
   "metadata": {
    "id": "3aCd8h46Dphy"
   },
   "outputs": [
    {
     "name": "stdout",
     "output_type": "stream",
     "text": [
      "words converted: 1, words not found: 0\n"
     ]
    }
   ],
   "source": [
    "# !python -m spacy download en_core_web_lg\n",
    "# nlp = spacy.load('en_core_web_lg')\n",
    "\n",
    "\n",
    "# num_words = len(word_index.keys())\n",
    "# print(f'total vocabulary length: {num_words}')\n",
    "\n",
    "\n",
    "num_tokens = num_words + 1\n",
    "embedding_dim = len(nlp('the').vector)\n",
    "hits = 0\n",
    "misses = 0\n",
    "\n",
    "embedding_matrix = np.zeros((num_tokens, embedding_dim))\n",
    "for word, i in word_index.items():\n",
    "\n",
    "    try:\n",
    "        embedding_matrix[i+1] = nlp(word).vector\n",
    "        hits += 1\n",
    "    except:\n",
    "        misses +=1\n",
    "print(f'words converted: {hits}, words not found: {misses}')\n",
    "tokens = df.Text.apply(lambda text: [word_index[word] for word in text.split()])\n",
    "X = pad_sequences(tokens, padding='post')\n",
    "y = df.Grade\n",
    "\n",
    "\n",
    "X_train, X_test, y_train, y_test = train_test_split(X, y, random_state = 42, test_size = 0.2)\n",
    "X_t, X_val, y_t, y_val = train_test_split(X_train, y_train, random_state = 42, test_size = 0.2)"
   ]
  },
  {
   "cell_type": "code",
   "execution_count": 40,
   "metadata": {},
   "outputs": [
    {
     "data": {
      "text/plain": [
       "(7252, 263)"
      ]
     },
     "execution_count": 40,
     "metadata": {},
     "output_type": "execute_result"
    }
   ],
   "source": [
    "X_train.shape"
   ]
  },
  {
   "cell_type": "code",
   "execution_count": 41,
   "metadata": {
    "id": "AV0p78v8ekvq"
   },
   "outputs": [],
   "source": [
    "embedding_layer=Embedding(\n",
    "    num_tokens,\n",
    "    embedding_dim,\n",
    "    embeddings_initializer=keras.initializers.Constant(embedding_matrix),\n",
    "    trainable=False)\n",
    "version = 0"
   ]
  },
  {
   "cell_type": "code",
   "execution_count": 42,
   "metadata": {
    "id": "-qWnjZGsDph0"
   },
   "outputs": [
    {
     "name": "stdout",
     "output_type": "stream",
     "text": [
      "Model: \"sequential\"\n",
      "_________________________________________________________________\n",
      "Layer (type)                 Output Shape              Param #   \n",
      "=================================================================\n",
      "embedding (Embedding)        (None, None, 300)         3494700   \n",
      "_________________________________________________________________\n",
      "lstm (LSTM)                  (None, None, 50)          70200     \n",
      "_________________________________________________________________\n",
      "global_max_pooling1d (Global (None, 50)                0         \n",
      "_________________________________________________________________\n",
      "dropout (Dropout)            (None, 50)                0         \n",
      "_________________________________________________________________\n",
      "dense (Dense)                (None, 64)                3264      \n",
      "_________________________________________________________________\n",
      "dropout_1 (Dropout)          (None, 64)                0         \n",
      "_________________________________________________________________\n",
      "dense_1 (Dense)              (None, 64)                4160      \n",
      "_________________________________________________________________\n",
      "dense_2 (Dense)              (None, 1)                 65        \n",
      "=================================================================\n",
      "Total params: 3,572,389\n",
      "Trainable params: 77,689\n",
      "Non-trainable params: 3,494,700\n",
      "_________________________________________________________________\n",
      "None\n"
     ]
    }
   ],
   "source": [
    "def make_model():\n",
    "\n",
    "    model = Sequential()\n",
    "\n",
    "    model.add(embedding_layer)\n",
    "    model.add(LSTM(50, return_sequences=True))\n",
    "    model.add(GlobalMaxPool1D())\n",
    "    model.add(Dropout(0.5))\n",
    "    model.add(Dense(64, activation='relu', \n",
    "                    kernel_regularizer = regularizers.l1_l2(l1=1e-5, l2=1e-4)))\n",
    "    model.add(Dropout(0.5))\n",
    "    model.add(Dense(64, activation='relu', \n",
    "                    kernel_regularizer = regularizers.l1_l2(l1=1e-5, l2=1e-4)))    \n",
    "    model.add(Dense(1))\n",
    "\n",
    "    adam = optimizers.Adam(learning_rate=.01, decay=1e-2)\n",
    "    model.compile(optimizer = adam, loss = 'mean_absolute_error', metrics = None)\n",
    "    \n",
    "    return model\n",
    "model = make_model()\n",
    "filepath = 'model1-best.hdf5'\n",
    "checkpoint = ModelCheckpoint(filepath, monitor='val_loss',verbose=1, \n",
    "                             save_best_only=True,\n",
    "                             mode='min')\n",
    "callbacks = [checkpoint]\n",
    "\n",
    "print(model.summary())"
   ]
  },
  {
   "cell_type": "code",
   "execution_count": 43,
   "metadata": {
    "id": "r_k2FvshDph0",
    "scrolled": true
   },
   "outputs": [
    {
     "name": "stdout",
     "output_type": "stream",
     "text": [
      "Epoch 1/50\n",
      "59/59 [==============================] - ETA: 0s - loss: 2.9680\n",
      "Epoch 00001: val_loss improved from inf to 2.70620, saving model to model1-best.hdf5\n",
      "59/59 [==============================] - 16s 272ms/step - loss: 2.9680 - val_loss: 2.7062\n",
      "Epoch 2/50\n",
      "59/59 [==============================] - ETA: 0s - loss: 2.5800\n",
      "Epoch 00002: val_loss did not improve from 2.70620\n",
      "59/59 [==============================] - 12s 201ms/step - loss: 2.5800 - val_loss: 3.0087\n",
      "Epoch 3/50\n",
      "59/59 [==============================] - ETA: 0s - loss: 2.4725\n",
      "Epoch 00003: val_loss did not improve from 2.70620\n",
      "59/59 [==============================] - 12s 208ms/step - loss: 2.4725 - val_loss: 2.8903\n",
      "Epoch 4/50\n",
      "59/59 [==============================] - ETA: 0s - loss: 2.3837\n",
      "Epoch 00004: val_loss did not improve from 2.70620\n",
      "59/59 [==============================] - 12s 211ms/step - loss: 2.3837 - val_loss: 2.8342\n",
      "Epoch 5/50\n",
      "59/59 [==============================] - ETA: 0s - loss: 2.2914\n",
      "Epoch 00005: val_loss improved from 2.70620 to 2.45363, saving model to model1-best.hdf5\n",
      "59/59 [==============================] - 16s 274ms/step - loss: 2.2914 - val_loss: 2.4536\n",
      "Epoch 6/50\n",
      "59/59 [==============================] - ETA: 0s - loss: 2.1908\n",
      "Epoch 00006: val_loss improved from 2.45363 to 2.40025, saving model to model1-best.hdf5\n",
      "59/59 [==============================] - 16s 266ms/step - loss: 2.1908 - val_loss: 2.4002\n",
      "Epoch 7/50\n",
      "59/59 [==============================] - ETA: 0s - loss: 2.1188\n",
      "Epoch 00007: val_loss improved from 2.40025 to 2.37319, saving model to model1-best.hdf5\n",
      "59/59 [==============================] - 16s 272ms/step - loss: 2.1188 - val_loss: 2.3732\n",
      "Epoch 8/50\n",
      "59/59 [==============================] - ETA: 0s - loss: 2.0601\n",
      "Epoch 00008: val_loss did not improve from 2.37319\n",
      "59/59 [==============================] - 13s 214ms/step - loss: 2.0601 - val_loss: 2.5855\n",
      "Epoch 9/50\n",
      "59/59 [==============================] - ETA: 0s - loss: 2.0706\n",
      "Epoch 00009: val_loss did not improve from 2.37319\n",
      "59/59 [==============================] - 13s 223ms/step - loss: 2.0706 - val_loss: 2.3837\n",
      "Epoch 10/50\n",
      "59/59 [==============================] - ETA: 0s - loss: 1.9719\n",
      "Epoch 00010: val_loss improved from 2.37319 to 2.34048, saving model to model1-best.hdf5\n",
      "59/59 [==============================] - 16s 266ms/step - loss: 1.9719 - val_loss: 2.3405\n",
      "Epoch 11/50\n",
      "59/59 [==============================] - ETA: 0s - loss: 1.9630\n",
      "Epoch 00011: val_loss did not improve from 2.34048\n",
      "59/59 [==============================] - 13s 212ms/step - loss: 1.9630 - val_loss: 2.5171\n",
      "Epoch 12/50\n",
      "59/59 [==============================] - ETA: 0s - loss: 1.9517\n",
      "Epoch 00012: val_loss did not improve from 2.34048\n",
      "59/59 [==============================] - 13s 220ms/step - loss: 1.9517 - val_loss: 2.4155\n",
      "Epoch 13/50\n",
      "59/59 [==============================] - ETA: 0s - loss: 1.8783- ETA: 1s - loss:\n",
      "Epoch 00013: val_loss did not improve from 2.34048\n",
      "59/59 [==============================] - 13s 219ms/step - loss: 1.8783 - val_loss: 2.4010\n",
      "Epoch 14/50\n",
      "59/59 [==============================] - ETA: 0s - loss: 1.8632\n",
      "Epoch 00014: val_loss did not improve from 2.34048\n",
      "59/59 [==============================] - 13s 224ms/step - loss: 1.8632 - val_loss: 2.4307\n",
      "Epoch 15/50\n",
      "59/59 [==============================] - ETA: 0s - loss: 1.8316\n",
      "Epoch 00015: val_loss did not improve from 2.34048\n",
      "59/59 [==============================] - 13s 226ms/step - loss: 1.8316 - val_loss: 2.4397\n",
      "Epoch 16/50\n",
      "59/59 [==============================] - ETA: 0s - loss: 1.8343\n",
      "Epoch 00016: val_loss improved from 2.34048 to 2.32252, saving model to model1-best.hdf5\n",
      "59/59 [==============================] - 18s 300ms/step - loss: 1.8343 - val_loss: 2.3225\n",
      "Epoch 17/50\n",
      "59/59 [==============================] - ETA: 0s - loss: 1.8181\n",
      "Epoch 00017: val_loss did not improve from 2.32252\n",
      "59/59 [==============================] - 13s 226ms/step - loss: 1.8181 - val_loss: 2.3570\n",
      "Epoch 18/50\n",
      "59/59 [==============================] - ETA: 0s - loss: 1.7665\n",
      "Epoch 00018: val_loss did not improve from 2.32252\n",
      "59/59 [==============================] - 14s 230ms/step - loss: 1.7665 - val_loss: 2.3711\n",
      "Epoch 19/50\n",
      "59/59 [==============================] - ETA: 0s - loss: 1.7493\n",
      "Epoch 00019: val_loss did not improve from 2.32252\n",
      "59/59 [==============================] - 14s 229ms/step - loss: 1.7493 - val_loss: 2.4709\n",
      "Epoch 20/50\n",
      "59/59 [==============================] - ETA: 0s - loss: 1.7345\n",
      "Epoch 00020: val_loss did not improve from 2.32252\n",
      "59/59 [==============================] - 14s 232ms/step - loss: 1.7345 - val_loss: 2.3456\n",
      "Epoch 21/50\n",
      "59/59 [==============================] - ETA: 0s - loss: 1.7441\n",
      "Epoch 00021: val_loss did not improve from 2.32252\n",
      "59/59 [==============================] - 13s 224ms/step - loss: 1.7441 - val_loss: 2.4703\n",
      "Epoch 22/50\n",
      "59/59 [==============================] - ETA: 0s - loss: 1.7220\n",
      "Epoch 00022: val_loss did not improve from 2.32252\n",
      "59/59 [==============================] - 13s 228ms/step - loss: 1.7220 - val_loss: 2.3350\n",
      "Epoch 23/50\n",
      "59/59 [==============================] - ETA: 0s - loss: 1.7113\n",
      "Epoch 00023: val_loss did not improve from 2.32252\n",
      "59/59 [==============================] - 14s 231ms/step - loss: 1.7113 - val_loss: 2.4477\n",
      "Epoch 24/50\n",
      "59/59 [==============================] - ETA: 0s - loss: 1.6548\n",
      "Epoch 00024: val_loss did not improve from 2.32252\n",
      "59/59 [==============================] - 13s 228ms/step - loss: 1.6548 - val_loss: 2.5412\n",
      "Epoch 25/50\n",
      "59/59 [==============================] - ETA: 0s - loss: 1.6412\n",
      "Epoch 00025: val_loss did not improve from 2.32252\n",
      "59/59 [==============================] - 13s 227ms/step - loss: 1.6412 - val_loss: 2.5537\n",
      "Epoch 26/50\n",
      "59/59 [==============================] - ETA: 0s - loss: 1.6330\n",
      "Epoch 00026: val_loss did not improve from 2.32252\n",
      "59/59 [==============================] - 13s 228ms/step - loss: 1.6330 - val_loss: 2.4509\n",
      "Epoch 27/50\n",
      "59/59 [==============================] - ETA: 0s - loss: 1.6444\n",
      "Epoch 00027: val_loss did not improve from 2.32252\n",
      "59/59 [==============================] - 14s 231ms/step - loss: 1.6444 - val_loss: 2.5214\n",
      "Epoch 28/50\n",
      "59/59 [==============================] - ETA: 0s - loss: 1.6357\n",
      "Epoch 00028: val_loss did not improve from 2.32252\n",
      "59/59 [==============================] - 14s 229ms/step - loss: 1.6357 - val_loss: 2.5245\n",
      "Epoch 29/50\n",
      "59/59 [==============================] - ETA: 0s - loss: 1.5994\n",
      "Epoch 00029: val_loss did not improve from 2.32252\n",
      "59/59 [==============================] - 14s 237ms/step - loss: 1.5994 - val_loss: 2.4934\n",
      "Epoch 30/50\n",
      "59/59 [==============================] - ETA: 0s - loss: 1.5938\n",
      "Epoch 00030: val_loss did not improve from 2.32252\n",
      "59/59 [==============================] - 14s 231ms/step - loss: 1.5938 - val_loss: 2.5045\n",
      "Epoch 31/50\n",
      "59/59 [==============================] - ETA: 0s - loss: 1.5628\n",
      "Epoch 00031: val_loss did not improve from 2.32252\n",
      "59/59 [==============================] - 14s 245ms/step - loss: 1.5628 - val_loss: 2.5587\n",
      "Epoch 32/50\n",
      "59/59 [==============================] - ETA: 0s - loss: 1.5508\n",
      "Epoch 00032: val_loss did not improve from 2.32252\n",
      "59/59 [==============================] - 15s 249ms/step - loss: 1.5508 - val_loss: 2.4505\n",
      "Epoch 33/50\n",
      "59/59 [==============================] - ETA: 0s - loss: 1.5467\n",
      "Epoch 00033: val_loss did not improve from 2.32252\n",
      "59/59 [==============================] - 15s 259ms/step - loss: 1.5467 - val_loss: 2.4651\n",
      "Epoch 34/50\n",
      "59/59 [==============================] - ETA: 0s - loss: 1.5433\n",
      "Epoch 00034: val_loss did not improve from 2.32252\n",
      "59/59 [==============================] - 14s 239ms/step - loss: 1.5433 - val_loss: 2.5215\n",
      "Epoch 35/50\n",
      "59/59 [==============================] - ETA: 0s - loss: 1.5189\n",
      "Epoch 00035: val_loss did not improve from 2.32252\n",
      "59/59 [==============================] - 17s 291ms/step - loss: 1.5189 - val_loss: 2.5553\n",
      "Epoch 36/50\n",
      "59/59 [==============================] - ETA: 0s - loss: 1.5066\n",
      "Epoch 00036: val_loss did not improve from 2.32252\n",
      "59/59 [==============================] - 17s 295ms/step - loss: 1.5066 - val_loss: 2.4076\n",
      "Epoch 37/50\n",
      "59/59 [==============================] - ETA: 0s - loss: 1.5639\n",
      "Epoch 00037: val_loss did not improve from 2.32252\n",
      "59/59 [==============================] - 16s 270ms/step - loss: 1.5639 - val_loss: 2.5193\n"
     ]
    },
    {
     "name": "stdout",
     "output_type": "stream",
     "text": [
      "Epoch 38/50\n",
      "59/59 [==============================] - ETA: 0s - loss: 1.4942\n",
      "Epoch 00038: val_loss did not improve from 2.32252\n",
      "59/59 [==============================] - 24s 401ms/step - loss: 1.4942 - val_loss: 2.5582\n",
      "Epoch 39/50\n",
      "59/59 [==============================] - ETA: 0s - loss: 1.5034\n",
      "Epoch 00039: val_loss did not improve from 2.32252\n",
      "59/59 [==============================] - 24s 403ms/step - loss: 1.5034 - val_loss: 2.5209\n",
      "Epoch 40/50\n",
      "59/59 [==============================] - ETA: 0s - loss: 1.5066\n",
      "Epoch 00040: val_loss did not improve from 2.32252\n",
      "59/59 [==============================] - 24s 413ms/step - loss: 1.5066 - val_loss: 2.5712\n",
      "Epoch 41/50\n",
      "59/59 [==============================] - ETA: 0s - loss: 1.4614\n",
      "Epoch 00041: val_loss did not improve from 2.32252\n",
      "59/59 [==============================] - 20s 336ms/step - loss: 1.4614 - val_loss: 2.5760\n",
      "Epoch 42/50\n",
      "59/59 [==============================] - ETA: 0s - loss: 1.4508\n",
      "Epoch 00042: val_loss did not improve from 2.32252\n",
      "59/59 [==============================] - 19s 319ms/step - loss: 1.4508 - val_loss: 2.6073\n",
      "Epoch 43/50\n",
      "59/59 [==============================] - ETA: 0s - loss: 1.4876\n",
      "Epoch 00043: val_loss did not improve from 2.32252\n",
      "59/59 [==============================] - 19s 326ms/step - loss: 1.4876 - val_loss: 2.6252\n",
      "Epoch 44/50\n",
      "59/59 [==============================] - ETA: 0s - loss: 1.4489\n",
      "Epoch 00044: val_loss did not improve from 2.32252\n",
      "59/59 [==============================] - 20s 340ms/step - loss: 1.4489 - val_loss: 2.5594\n",
      "Epoch 45/50\n",
      "59/59 [==============================] - ETA: 0s - loss: 1.4776\n",
      "Epoch 00045: val_loss did not improve from 2.32252\n",
      "59/59 [==============================] - 19s 317ms/step - loss: 1.4776 - val_loss: 2.6177\n",
      "Epoch 46/50\n",
      "59/59 [==============================] - ETA: 0s - loss: 1.4534\n",
      "Epoch 00046: val_loss did not improve from 2.32252\n",
      "59/59 [==============================] - 19s 319ms/step - loss: 1.4534 - val_loss: 2.5457\n",
      "Epoch 47/50\n",
      "59/59 [==============================] - ETA: 0s - loss: 1.4751\n",
      "Epoch 00047: val_loss did not improve from 2.32252\n",
      "59/59 [==============================] - 21s 350ms/step - loss: 1.4751 - val_loss: 2.6490\n",
      "Epoch 48/50\n",
      "59/59 [==============================] - ETA: 0s - loss: 1.4479\n",
      "Epoch 00048: val_loss did not improve from 2.32252\n",
      "59/59 [==============================] - 21s 361ms/step - loss: 1.4479 - val_loss: 2.7334\n",
      "Epoch 49/50\n",
      "59/59 [==============================] - ETA: 0s - loss: 1.4359\n",
      "Epoch 00049: val_loss did not improve from 2.32252\n",
      "59/59 [==============================] - 22s 374ms/step - loss: 1.4359 - val_loss: 2.6463\n",
      "Epoch 50/50\n",
      "59/59 [==============================] - ETA: 0s - loss: 1.4240\n",
      "Epoch 00050: val_loss did not improve from 2.32252\n",
      "59/59 [==============================] - 20s 343ms/step - loss: 1.4240 - val_loss: 2.6570\n"
     ]
    },
    {
     "data": {
      "image/png": "[encoded data removed]",
      "text/plain": [
       "<Figure size 432x288 with 1 Axes>"
      ]
     },
     "metadata": {},
     "output_type": "display_data"
    },
    {
     "ename": "OSError",
     "evalue": "SavedModel file does not exist at: /content/model1-best.hdf5/{saved_model.pbtxt|saved_model.pb}",
     "output_type": "error",
     "traceback": [
      "\u001b[1;31m---------------------------------------------------------------------------\u001b[0m",
      "\u001b[1;31mOSError\u001b[0m                                   Traceback (most recent call last)",
      "\u001b[1;32m<ipython-input-43-9f9db6fdfb3b>\u001b[0m in \u001b[0;36m<module>\u001b[1;34m\u001b[0m\n\u001b[0;32m     10\u001b[0m \u001b[0mplt\u001b[0m\u001b[1;33m.\u001b[0m\u001b[0mshow\u001b[0m\u001b[1;33m(\u001b[0m\u001b[1;33m)\u001b[0m\u001b[1;33m\u001b[0m\u001b[1;33m\u001b[0m\u001b[0m\n\u001b[0;32m     11\u001b[0m \u001b[1;33m\u001b[0m\u001b[0m\n\u001b[1;32m---> 12\u001b[1;33m \u001b[0mmodel\u001b[0m \u001b[1;33m=\u001b[0m \u001b[0mkeras\u001b[0m\u001b[1;33m.\u001b[0m\u001b[0mmodels\u001b[0m\u001b[1;33m.\u001b[0m\u001b[0mload_model\u001b[0m\u001b[1;33m(\u001b[0m\u001b[1;34m'/content/model1-best.hdf5'\u001b[0m\u001b[1;33m)\u001b[0m\u001b[1;33m\u001b[0m\u001b[1;33m\u001b[0m\u001b[0m\n\u001b[0m\u001b[0;32m     13\u001b[0m \u001b[0myhat\u001b[0m \u001b[1;33m=\u001b[0m \u001b[0mmodel\u001b[0m\u001b[1;33m.\u001b[0m\u001b[0mpredict\u001b[0m\u001b[1;33m(\u001b[0m\u001b[0mX_test\u001b[0m\u001b[1;33m)\u001b[0m\u001b[1;33m.\u001b[0m\u001b[0mravel\u001b[0m\u001b[1;33m(\u001b[0m\u001b[1;33m)\u001b[0m\u001b[1;33m\u001b[0m\u001b[1;33m\u001b[0m\u001b[0m\n\u001b[0;32m     14\u001b[0m \u001b[0mprint\u001b[0m\u001b[1;33m(\u001b[0m\u001b[1;34m'MAE = '\u001b[0m\u001b[1;33m,\u001b[0m \u001b[0mnp\u001b[0m\u001b[1;33m.\u001b[0m\u001b[0msum\u001b[0m\u001b[1;33m(\u001b[0m\u001b[0mnp\u001b[0m\u001b[1;33m.\u001b[0m\u001b[0mabs\u001b[0m\u001b[1;33m(\u001b[0m\u001b[0my_test\u001b[0m\u001b[1;33m-\u001b[0m\u001b[0myhat\u001b[0m\u001b[1;33m)\u001b[0m\u001b[1;33m)\u001b[0m\u001b[1;33m/\u001b[0m\u001b[0mlen\u001b[0m\u001b[1;33m(\u001b[0m\u001b[0my_test\u001b[0m\u001b[1;33m)\u001b[0m\u001b[1;33m)\u001b[0m\u001b[1;33m\u001b[0m\u001b[1;33m\u001b[0m\u001b[0m\n",
      "\u001b[1;32m~\\AppData\\Roaming\\Python\\Python38\\site-packages\\tensorflow\\python\\keras\\saving\\save.py\u001b[0m in \u001b[0;36mload_model\u001b[1;34m(filepath, custom_objects, compile, options)\u001b[0m\n\u001b[0;32m    184\u001b[0m     \u001b[0mfilepath\u001b[0m \u001b[1;33m=\u001b[0m \u001b[0mpath_to_string\u001b[0m\u001b[1;33m(\u001b[0m\u001b[0mfilepath\u001b[0m\u001b[1;33m)\u001b[0m\u001b[1;33m\u001b[0m\u001b[1;33m\u001b[0m\u001b[0m\n\u001b[0;32m    185\u001b[0m     \u001b[1;32mif\u001b[0m \u001b[0misinstance\u001b[0m\u001b[1;33m(\u001b[0m\u001b[0mfilepath\u001b[0m\u001b[1;33m,\u001b[0m \u001b[0msix\u001b[0m\u001b[1;33m.\u001b[0m\u001b[0mstring_types\u001b[0m\u001b[1;33m)\u001b[0m\u001b[1;33m:\u001b[0m\u001b[1;33m\u001b[0m\u001b[1;33m\u001b[0m\u001b[0m\n\u001b[1;32m--> 186\u001b[1;33m       \u001b[0mloader_impl\u001b[0m\u001b[1;33m.\u001b[0m\u001b[0mparse_saved_model\u001b[0m\u001b[1;33m(\u001b[0m\u001b[0mfilepath\u001b[0m\u001b[1;33m)\u001b[0m\u001b[1;33m\u001b[0m\u001b[1;33m\u001b[0m\u001b[0m\n\u001b[0m\u001b[0;32m    187\u001b[0m       \u001b[1;32mreturn\u001b[0m \u001b[0msaved_model_load\u001b[0m\u001b[1;33m.\u001b[0m\u001b[0mload\u001b[0m\u001b[1;33m(\u001b[0m\u001b[0mfilepath\u001b[0m\u001b[1;33m,\u001b[0m \u001b[0mcompile\u001b[0m\u001b[1;33m,\u001b[0m \u001b[0moptions\u001b[0m\u001b[1;33m)\u001b[0m\u001b[1;33m\u001b[0m\u001b[1;33m\u001b[0m\u001b[0m\n\u001b[0;32m    188\u001b[0m \u001b[1;33m\u001b[0m\u001b[0m\n",
      "\u001b[1;32m~\\AppData\\Roaming\\Python\\Python38\\site-packages\\tensorflow\\python\\saved_model\\loader_impl.py\u001b[0m in \u001b[0;36mparse_saved_model\u001b[1;34m(export_dir)\u001b[0m\n\u001b[0;32m    108\u001b[0m       \u001b[1;32mraise\u001b[0m \u001b[0mIOError\u001b[0m\u001b[1;33m(\u001b[0m\u001b[1;34m\"Cannot parse file %s: %s.\"\u001b[0m \u001b[1;33m%\u001b[0m \u001b[1;33m(\u001b[0m\u001b[0mpath_to_pbtxt\u001b[0m\u001b[1;33m,\u001b[0m \u001b[0mstr\u001b[0m\u001b[1;33m(\u001b[0m\u001b[0me\u001b[0m\u001b[1;33m)\u001b[0m\u001b[1;33m)\u001b[0m\u001b[1;33m)\u001b[0m\u001b[1;33m\u001b[0m\u001b[1;33m\u001b[0m\u001b[0m\n\u001b[0;32m    109\u001b[0m   \u001b[1;32melse\u001b[0m\u001b[1;33m:\u001b[0m\u001b[1;33m\u001b[0m\u001b[1;33m\u001b[0m\u001b[0m\n\u001b[1;32m--> 110\u001b[1;33m     raise IOError(\"SavedModel file does not exist at: %s/{%s|%s}\" %\n\u001b[0m\u001b[0;32m    111\u001b[0m                   (export_dir,\n\u001b[0;32m    112\u001b[0m                    \u001b[0mconstants\u001b[0m\u001b[1;33m.\u001b[0m\u001b[0mSAVED_MODEL_FILENAME_PBTXT\u001b[0m\u001b[1;33m,\u001b[0m\u001b[1;33m\u001b[0m\u001b[1;33m\u001b[0m\u001b[0m\n",
      "\u001b[1;31mOSError\u001b[0m: SavedModel file does not exist at: /content/model1-best.hdf5/{saved_model.pbtxt|saved_model.pb}"
     ]
    }
   ],
   "source": [
    "history = model.fit(X_train, y_train,\n",
    "                     batch_size=100,\n",
    "                     epochs=50,\n",
    "                     validation_split=.2,\n",
    "                    callbacks=callbacks)\n",
    "\n",
    "plt.plot(history.history['loss'], label='Training Loss')\n",
    "plt.plot(history.history['val_loss'], label='Validation Loss')\n",
    "plt.legend()\n",
    "plt.show()\n",
    "\n",
    "model = keras.models.load_model('/content/model1-best.hdf5')\n",
    "yhat = model.predict(X_test).ravel()\n",
    "print('MAE = ', np.sum(np.abs(y_test-yhat))/len(y_test))\n",
    "print('mean grade prediction = ',np.mean(model.predict(X_train)))\n",
    "print('mean grade = ', np.mean(y_train))\n",
    "\n",
    "errors = df.loc[y_test.index][['Text','Grade']]\n",
    "errors['Predicted Grade'] = yhat\n",
    "errors.sample(5)"
   ]
  },
  {
   "cell_type": "code",
   "execution_count": null,
   "metadata": {
    "id": "Eussx4uJdr_T"
   },
   "outputs": [],
   "source": [
    "def make_model2():\n",
    "\n",
    "    model = Sequential()\n",
    "\n",
    "    model.add(embedding_layer)\n",
    "    model.add(LSTM(50, return_sequences=True))\n",
    "    model.add(GlobalMaxPool1D())\n",
    "    model.add(Dropout(0.5))\n",
    "    model.add(Dense(32, activation='relu', \n",
    "                    kernel_regularizer = regularizers.l1_l2(l1=1e-5, l2=1e-4)))\n",
    "    model.add(Dropout(0.5))\n",
    "    model.add(Dense(32, activation='relu', \n",
    "                    kernel_regularizer = regularizers.l1_l2(l1=1e-5, l2=1e-4)))  \n",
    "    model.add(Dense(32, activation='relu', \n",
    "                    kernel_regularizer = regularizers.l1_l2(l1=1e-5, l2=1e-4)))\n",
    "    model.add(Dropout(0.5))\n",
    "    model.add(Dense(16, activation='relu', \n",
    "                    kernel_regularizer = regularizers.l1_l2(l1=1e-5, l2=1e-4)))  \n",
    "    model.add(Dense(1))\n",
    "\n",
    "    adam = optimizers.Adam(learning_rate=.01, decay=1e-2)\n",
    "    model.compile(optimizer = adam, loss = 'mean_absolute_error', metrics = None)\n",
    "    \n",
    "    return model\n",
    "model = make_model2()\n",
    "print(model.summary())\n",
    "filepath = 'model2-best.hdf5'\n",
    "checkpoint = ModelCheckpoint(filepath, monitor='val_loss',verbose=1, \n",
    "                             save_best_only=True,\n",
    "                             mode='min')\n",
    "callbacks = [checkpoint]\n",
    "\n"
   ]
  },
  {
   "cell_type": "code",
   "execution_count": null,
   "metadata": {
    "id": "u7k1n-QtboPx"
   },
   "outputs": [],
   "source": [
    "history = model.fit(X_train, y_train,\n",
    "                     batch_size=100,\n",
    "                     epochs=50,\n",
    "                     validation_split=.2,\n",
    "                    callbacks=callbacks)\n",
    "\n",
    "plt.plot(history.history['loss'], label='Training Loss')\n",
    "plt.plot(history.history['val_loss'], label='Validation Loss')\n",
    "plt.legend()\n",
    "plt.show()\n",
    "\n",
    "model = keras.models.load_model('/content/model2-best.hdf5')\n",
    "yhat = model.predict(X_test).ravel()\n",
    "print('MAE = ', np.sum(np.abs(y_test-yhat))/len(y_test))\n",
    "print('mean grade prediction = ',np.mean(model.predict(X_train)))\n",
    "print('mean grade = ', np.mean(y_train))\n",
    "\n",
    "errors = df.loc[y_test.index][['Text','Grade']]\n",
    "errors['Predicted Grade'] = yhat\n",
    "errors.sample(5)"
   ]
  },
  {
   "cell_type": "code",
   "execution_count": null,
   "metadata": {
    "id": "VQsvGuFIbrpW"
   },
   "outputs": [],
   "source": []
  }
 ],
 "metadata": {
  "accelerator": "TPU",
  "colab": {
   "name": "GloVe_RNN.ipynb",
   "private_outputs": true,
   "provenance": []
  },
  "kernelspec": {
   "display_name": "Python 3",
   "language": "python",
   "name": "python3"
  },
  "language_info": {
   "codemirror_mode": {
    "name": "ipython",
    "version": 3
   },
   "file_extension": ".py",
   "mimetype": "text/x-python",
   "name": "python",
   "nbconvert_exporter": "python",
   "pygments_lexer": "ipython3",
   "version": "3.8.3"
  }
 },
 "nbformat": 4,
 "nbformat_minor": 1
}
