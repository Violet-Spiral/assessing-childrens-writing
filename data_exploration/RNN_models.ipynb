{
  "nbformat": 4,
  "nbformat_minor": 0,
  "metadata": {
    "colab": {
      "name": "RNN_models.ipynb",
      "private_outputs": true,
      "provenance": []
    },
    "kernelspec": {
      "name": "python3",
      "display_name": "Python 3"
    }
  },
  "cells": [
    {
      "cell_type": "code",
      "metadata": {
        "id": "5QF0aa5kOYCQ"
      },
      "source": [
        "import pandas as pd\r\n",
        "import numpy as np\r\n",
        "import matplotlib.pyplot as plt\r\n",
        "import nltk\r\n",
        "nltk.download('stopwords')\r\n",
        "from nltk.corpus import stopwords\r\n",
        "from gensim.models import Word2Vec\r\n",
        "import gensim.downloader\r\n"
      ],
      "execution_count": null,
      "outputs": []
    },
    {
      "cell_type": "code",
      "metadata": {
        "id": "XOzdawrkrxiU"
      },
      "source": [
        "df = pd.read_csv('processed_text.csv')\r\n",
        "\r\n",
        "df['Tokens'] = df.lemmatized.str.split()\r\n",
        "cleaned_tokens = []\r\n",
        "for story in df.Tokens:\r\n",
        "    text = [w for w in story if w not in stopwords.words('english')]\r\n",
        "    cleaned_tokens.append(text)\r\n",
        "df.Tokens = cleaned_tokens"
      ],
      "execution_count": null,
      "outputs": []
    },
    {
      "cell_type": "code",
      "metadata": {
        "id": "3P_bDdj-7Cmd"
      },
      "source": [
        "word2vec = Word2Vec(df.Tokens, min_count=2)\r\n",
        "vocabulary = word2vec.wv.vocab\r\n",
        "print(vocabulary)"
      ],
      "execution_count": null,
      "outputs": []
    },
    {
      "cell_type": "code",
      "metadata": {
        "id": "qA5njxuy7tYd"
      },
      "source": [
        "word2vec.wv.most_similar('school')"
      ],
      "execution_count": null,
      "outputs": []
    },
    {
      "cell_type": "code",
      "metadata": {
        "id": "Dpv2XuKm-CwF"
      },
      "source": [
        "glove_vectors = gensim.downloader.load('glove-wiki-gigaword-300')"
      ],
      "execution_count": null,
      "outputs": []
    },
    {
      "cell_type": "code",
      "metadata": {
        "id": "a-MsUgMwDC8a"
      },
      "source": [
        "glove_vectors.most_similar('school')"
      ],
      "execution_count": null,
      "outputs": []
    },
    {
      "cell_type": "markdown",
      "metadata": {
        "id": "kJRkd15UI5wN"
      },
      "source": [
        "Thanks to https://keras.io/examples/nlp/pretrained_word_embeddings/ for the below"
      ]
    },
    {
      "cell_type": "code",
      "metadata": {
        "id": "lLIXF0m-KgWs"
      },
      "source": [
        "words = word2vec.wv.vocab.keys()\r\n",
        "word_index = dict(zip(words, range(len(words))))\r\n",
        "word_index"
      ],
      "execution_count": null,
      "outputs": []
    },
    {
      "cell_type": "code",
      "metadata": {
        "id": "XmLkIPBpZUR8"
      },
      "source": [
        "len(word2vec['anything'])"
      ],
      "execution_count": null,
      "outputs": []
    },
    {
      "cell_type": "code",
      "metadata": {
        "id": "qok0OU4YZX1c"
      },
      "source": [
        "len(embedding_vector)"
      ],
      "execution_count": null,
      "outputs": []
    },
    {
      "cell_type": "code",
      "metadata": {
        "id": "q5hyyd4oE9tH"
      },
      "source": [
        "num_tokens = len(word2vec.wv.vocab.keys())+2\r\n",
        "embedding_dim = len(glove_vectors['anything'])\r\n",
        "hits = 0\r\n",
        "misses = 0\r\n",
        "\r\n",
        "embedding_matrix = np.zeros((num_tokens, embedding_dim))\r\n",
        "for word, i in word_index.items():\r\n",
        "    \r\n",
        "    try: \r\n",
        "        embedding_vector = glove_vectors[word]\r\n",
        "        embedding_matrix[i] = embedding_vector\r\n",
        "        hits += 1\r\n",
        "    except:\r\n",
        "        misses +=1\r\n",
        "print('Converted %d words (%d misses)' % (hits, misses))"
      ],
      "execution_count": null,
      "outputs": []
    },
    {
      "cell_type": "code",
      "metadata": {
        "id": "miisqgydJ-M1"
      },
      "source": [
        "embedding_matrix.shape"
      ],
      "execution_count": null,
      "outputs": []
    },
    {
      "cell_type": "code",
      "metadata": {
        "id": "2jrpAeRoaMDi"
      },
      "source": [
        ""
      ],
      "execution_count": null,
      "outputs": []
    }
  ]
}