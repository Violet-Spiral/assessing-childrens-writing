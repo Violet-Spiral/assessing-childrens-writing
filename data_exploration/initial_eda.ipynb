{
 "cells": [
  {
   "cell_type": "code",
   "execution_count": 123,
   "metadata": {
    "extensions": {
     "jupyter_dashboards": {
      "activeView": "grid_default",
      "views": {
       "grid_default": {
        "col": null,
        "height": 2,
        "hidden": true,
        "row": null,
        "width": 2
       }
      }
     }
    }
   },
   "outputs": [],
   "source": [
    "import pandas as pd\n",
    "from nltk.corpus import wordnet\n",
    "from nltk.stem import WordNetLemmatizer\n",
    "from nltk import pos_tag\n",
    "import re"
   ]
  },
  {
   "cell_type": "code",
   "execution_count": 161,
   "metadata": {
    "extensions": {
     "jupyter_dashboards": {
      "activeView": "grid_default",
      "views": {
       "grid_default": {
        "col": null,
        "height": 2,
        "hidden": true,
        "row": null,
        "width": 2
       }
      }
     }
    },
    "scrolled": true
   },
   "outputs": [
    {
     "data": {
      "text/html": [
       "<div>\n",
       "<style scoped>\n",
       "    .dataframe tbody tr th:only-of-type {\n",
       "        vertical-align: middle;\n",
       "    }\n",
       "\n",
       "    .dataframe tbody tr th {\n",
       "        vertical-align: top;\n",
       "    }\n",
       "\n",
       "    .dataframe thead th {\n",
       "        text-align: right;\n",
       "    }\n",
       "</style>\n",
       "<table border=\"1\" class=\"dataframe\">\n",
       "  <thead>\n",
       "    <tr style=\"text-align: right;\">\n",
       "      <th></th>\n",
       "      <th>Grade</th>\n",
       "      <th>Text</th>\n",
       "    </tr>\n",
       "  </thead>\n",
       "  <tbody>\n",
       "    <tr>\n",
       "      <th>0</th>\n",
       "      <td>1</td>\n",
       "      <td>\"How Much I Know About Space I had just gone t...</td>\n",
       "    </tr>\n",
       "    <tr>\n",
       "      <th>1</th>\n",
       "      <td>1</td>\n",
       "      <td>\"My Favorite Pet My cat is fluffy. His name is...</td>\n",
       "    </tr>\n",
       "    <tr>\n",
       "      <th>2</th>\n",
       "      <td>1</td>\n",
       "      <td>\"Sweet Spring Spring is sweet because we can g...</td>\n",
       "    </tr>\n",
       "    <tr>\n",
       "      <th>3</th>\n",
       "      <td>1</td>\n",
       "      <td>\"A Happy Day One day baby Josh came home. He w...</td>\n",
       "    </tr>\n",
       "    <tr>\n",
       "      <th>4</th>\n",
       "      <td>1</td>\n",
       "      <td>\"My Trip to Mexico One time I went to Mexico. ...</td>\n",
       "    </tr>\n",
       "  </tbody>\n",
       "</table>\n",
       "</div>"
      ],
      "text/plain": [
       "   Grade                                               Text\n",
       "0      1  \"How Much I Know About Space I had just gone t...\n",
       "1      1  \"My Favorite Pet My cat is fluffy. His name is...\n",
       "2      1  \"Sweet Spring Spring is sweet because we can g...\n",
       "3      1  \"A Happy Day One day baby Josh came home. He w...\n",
       "4      1  \"My Trip to Mexico One time I went to Mexico. ..."
      ]
     },
     "execution_count": 161,
     "metadata": {},
     "output_type": "execute_result"
    }
   ],
   "source": [
    "df = pd.read_csv('../data/samples_with_titles.csv',\n",
    "                   skipinitialspace=True,\n",
    "                   sep=',', \n",
    "                   quotechar='\"', \n",
    "                   escapechar='\\\\',\n",
    "                   error_bad_lines=False,\n",
    "                    usecols = ['Grade','Text'])\n",
    "df.head()"
   ]
  },
  {
   "cell_type": "code",
   "execution_count": 125,
   "metadata": {
    "extensions": {
     "jupyter_dashboards": {
      "activeView": "grid_default",
      "views": {
       "grid_default": {
        "col": null,
        "height": 2,
        "hidden": true,
        "row": null,
        "width": 2
       }
      }
     }
    },
    "scrolled": true
   },
   "outputs": [
    {
     "data": {
      "text/html": [
       "<div>\n",
       "<style scoped>\n",
       "    .dataframe tbody tr th:only-of-type {\n",
       "        vertical-align: middle;\n",
       "    }\n",
       "\n",
       "    .dataframe tbody tr th {\n",
       "        vertical-align: top;\n",
       "    }\n",
       "\n",
       "    .dataframe thead th {\n",
       "        text-align: right;\n",
       "    }\n",
       "</style>\n",
       "<table border=\"1\" class=\"dataframe\">\n",
       "  <thead>\n",
       "    <tr style=\"text-align: right;\">\n",
       "      <th></th>\n",
       "      <th>Grade</th>\n",
       "      <th>Text</th>\n",
       "    </tr>\n",
       "  </thead>\n",
       "  <tbody>\n",
       "    <tr>\n",
       "      <th>0</th>\n",
       "      <td>1</td>\n",
       "      <td>I had just gone to Chobot Space and Science Ce...</td>\n",
       "    </tr>\n",
       "    <tr>\n",
       "      <th>1</th>\n",
       "      <td>1</td>\n",
       "      <td>My cat is fluffy. His name is Buzz. He is my f...</td>\n",
       "    </tr>\n",
       "    <tr>\n",
       "      <th>2</th>\n",
       "      <td>1</td>\n",
       "      <td>Spring is sweet because we can go boat riding ...</td>\n",
       "    </tr>\n",
       "    <tr>\n",
       "      <th>3</th>\n",
       "      <td>1</td>\n",
       "      <td>One day baby Josh came home. He was in a yello...</td>\n",
       "    </tr>\n",
       "    <tr>\n",
       "      <th>4</th>\n",
       "      <td>1</td>\n",
       "      <td>One time I went to Mexico. It was a blast! I m...</td>\n",
       "    </tr>\n",
       "    <tr>\n",
       "      <th>...</th>\n",
       "      <td>...</td>\n",
       "      <td>...</td>\n",
       "    </tr>\n",
       "    <tr>\n",
       "      <th>284</th>\n",
       "      <td>0</td>\n",
       "      <td>I like Make Way for Ducklings the best because...</td>\n",
       "    </tr>\n",
       "    <tr>\n",
       "      <th>285</th>\n",
       "      <td>0</td>\n",
       "      <td>My mom is special because she plays with me.</td>\n",
       "    </tr>\n",
       "    <tr>\n",
       "      <th>286</th>\n",
       "      <td>11</td>\n",
       "      <td>To whom it may concern:   A group of parents  ...</td>\n",
       "    </tr>\n",
       "    <tr>\n",
       "      <th>287</th>\n",
       "      <td>9</td>\n",
       "      <td>To Teachers and Whom It May Concern:    A prop...</td>\n",
       "    </tr>\n",
       "    <tr>\n",
       "      <th>288</th>\n",
       "      <td>6</td>\n",
       "      <td>Having complicated characters in a book makes ...</td>\n",
       "    </tr>\n",
       "  </tbody>\n",
       "</table>\n",
       "<p>289 rows × 2 columns</p>\n",
       "</div>"
      ],
      "text/plain": [
       "     Grade                                               Text\n",
       "0        1  I had just gone to Chobot Space and Science Ce...\n",
       "1        1  My cat is fluffy. His name is Buzz. He is my f...\n",
       "2        1  Spring is sweet because we can go boat riding ...\n",
       "3        1  One day baby Josh came home. He was in a yello...\n",
       "4        1  One time I went to Mexico. It was a blast! I m...\n",
       "..     ...                                                ...\n",
       "284      0  I like Make Way for Ducklings the best because...\n",
       "285      0       My mom is special because she plays with me.\n",
       "286     11  To whom it may concern:   A group of parents  ...\n",
       "287      9  To Teachers and Whom It May Concern:    A prop...\n",
       "288      6  Having complicated characters in a book makes ...\n",
       "\n",
       "[289 rows x 2 columns]"
      ]
     },
     "execution_count": 150,
     "metadata": {},
     "output_type": "execute_result"
    }
   ],
   "source": [
    "df_no_titles = pd.read_csv('../data/samples_no_titles.csv',\n",
    "                   skipinitialspace=True,\n",
    "                   sep=',', \n",
    "                   quotechar='\"', \n",
    "                   escapechar='\\\\',\n",
    "                   error_bad_lines=False,\n",
    "                    usecols = ['Grade','Text'])\n",
    "df_no_titles"
   ]
  },
  {
   "cell_type": "code",
   "execution_count": 126,
   "metadata": {
    "extensions": {
     "jupyter_dashboards": {
      "activeView": "grid_default",
      "views": {
       "grid_default": {
        "col": null,
        "height": 2,
        "hidden": true,
        "row": null,
        "width": 2
       }
      }
     }
    }
   },
   "outputs": [
    {
     "name": "stdout",
     "output_type": "stream",
     "text": [
      "<class 'pandas.core.frame.DataFrame'>\n",
      "RangeIndex: 289 entries, 0 to 288\n",
      "Data columns (total 2 columns):\n",
      " #   Column  Non-Null Count  Dtype \n",
      "---  ------  --------------  ----- \n",
      " 0   Grade   289 non-null    int64 \n",
      " 1   Text    289 non-null    object\n",
      "dtypes: int64(1), object(1)\n",
      "memory usage: 4.6+ KB\n"
     ]
    }
   ],
   "source": [
    "df.info()"
   ]
  },
  {
   "cell_type": "code",
   "execution_count": 127,
   "metadata": {
    "extensions": {
     "jupyter_dashboards": {
      "activeView": "grid_default",
      "views": {
       "grid_default": {
        "col": null,
        "height": 2,
        "hidden": true,
        "row": null,
        "width": 2
       }
      }
     }
    }
   },
   "outputs": [
    {
     "data": {
      "text/plain": [
       "0     18\n",
       "1     30\n",
       "2     37\n",
       "3     34\n",
       "4     36\n",
       "5     18\n",
       "6     47\n",
       "7      8\n",
       "8      8\n",
       "9     44\n",
       "10     2\n",
       "11     4\n",
       "12     3\n",
       "Name: Grade, dtype: int64"
      ]
     },
     "execution_count": 152,
     "metadata": {},
     "output_type": "execute_result"
    }
   ],
   "source": [
    "df.Grade.value_counts().sort_index()"
   ]
  },
  {
   "cell_type": "markdown",
   "metadata": {
    "extensions": {
     "jupyter_dashboards": {
      "activeView": "grid_default",
      "views": {
       "grid_default": {
        "col": null,
        "height": 2,
        "hidden": true,
        "row": null,
        "width": 2
       }
      }
     }
    }
   },
   "source": [
    "nltk_tag_to_wordnet_tag() courtesy of [Gaurav Gupta](https://medium.com/@gaurav5430/using-nltk-for-lemmatizing-sentences-c1bfff963258)"
   ]
  },
  {
   "cell_type": "code",
   "execution_count": 128,
   "metadata": {
    "extensions": {
     "jupyter_dashboards": {
      "activeView": "grid_default",
      "views": {
       "grid_default": {
        "col": null,
        "height": 2,
        "hidden": true,
        "row": null,
        "width": 2
       }
      }
     }
    }
   },
   "outputs": [],
   "source": [
    "def unique_characters(series):\n",
    "    unique = set([])\n",
    "    for text in series:\n",
    "        characters = set(text)\n",
    "        unique = unique.union(characters)\n",
    "    return unique\n",
    "\n",
    "def nltk_tag_to_wordnet_tag(nltk_tag):\n",
    "    if nltk_tag.startswith('J'):\n",
    "        return wordnet.ADJ\n",
    "    elif nltk_tag.startswith('V'):\n",
    "        return wordnet.VERB\n",
    "    elif nltk_tag.startswith('N'):\n",
    "        return wordnet.NOUN\n",
    "    elif nltk_tag.startswith('R'):\n",
    "        return wordnet.ADV\n",
    "    else:          \n",
    "        return None    \n",
    "    \n",
    "def retag(tagged_list):\n",
    "    return [(w[0], nltk_tag_to_wordnet_tag(w[1])) for w in tagged_list]\n",
    "\n",
    "def lemma(tagged_tokens):\n",
    "    lemmatizer = WordNetLemmatizer()\n",
    "    lemmas = []\n",
    "    for w in tagged_tokens:\n",
    "        if w[1] is None:\n",
    "            lemmas.append(lemmatizer.lemmatize(w[0]))\n",
    "        else:\n",
    "            lemmas.append(lemmatizer.lemmatize(w[0],w[1]))                   \n",
    "    return lemmas\n",
    "\n",
    "def lower_case(string):\n",
    "    return string.lower()\n",
    "\n",
    "def letters(string):\n",
    "    letters = re.findall('[a-z]+',string)\n",
    "    return letters\n",
    "\n",
    "def clean_tokenize(series):\n",
    "    return series.apply(lower_case).apply(letters)\n",
    "\n",
    "def lemmatize(series):\n",
    "    return series.apply(pos_tag).apply(retag).apply(lemma)\n",
    "\n",
    "def remove_weird_chars(string):\n",
    "    weird_chars = [ '¦', '©', '±', '³', '½', 'Â', 'Ã', 'â', '˜', '“', '”', '€', '[', ']', '_', '*', '$', '%', '&','\"']\n",
    "    return ''.join([c for c in string if c not in weird_chars])"
   ]
  },
  {
   "cell_type": "code",
   "execution_count": 146,
   "metadata": {
    "extensions": {
     "jupyter_dashboards": {
      "activeView": "grid_default",
      "views": {
       "grid_default": {
        "col": null,
        "height": 2,
        "hidden": true,
        "row": null,
        "width": 2
       }
      }
     }
    }
   },
   "outputs": [
    {
     "data": {
      "text/plain": [
       "{' ',\n",
       " '!',\n",
       " '\"',\n",
       " '$',\n",
       " '%',\n",
       " '&',\n",
       " '(',\n",
       " ')',\n",
       " '*',\n",
       " '-',\n",
       " '.',\n",
       " '/',\n",
       " '0',\n",
       " '1',\n",
       " '2',\n",
       " '3',\n",
       " '4',\n",
       " '5',\n",
       " '6',\n",
       " '7',\n",
       " '8',\n",
       " '9',\n",
       " ':',\n",
       " ';',\n",
       " '?',\n",
       " 'A',\n",
       " 'B',\n",
       " 'C',\n",
       " 'D',\n",
       " 'E',\n",
       " 'F',\n",
       " 'G',\n",
       " 'H',\n",
       " 'I',\n",
       " 'J',\n",
       " 'K',\n",
       " 'L',\n",
       " 'M',\n",
       " 'N',\n",
       " 'O',\n",
       " 'P',\n",
       " 'Q',\n",
       " 'R',\n",
       " 'S',\n",
       " 'T',\n",
       " 'U',\n",
       " 'V',\n",
       " 'W',\n",
       " 'X',\n",
       " 'Y',\n",
       " 'Z',\n",
       " '[',\n",
       " ']',\n",
       " '_',\n",
       " 'a',\n",
       " 'b',\n",
       " 'c',\n",
       " 'd',\n",
       " 'e',\n",
       " 'f',\n",
       " 'g',\n",
       " 'h',\n",
       " 'i',\n",
       " 'j',\n",
       " 'k',\n",
       " 'l',\n",
       " 'm',\n",
       " 'n',\n",
       " 'o',\n",
       " 'p',\n",
       " 'q',\n",
       " 'r',\n",
       " 's',\n",
       " 't',\n",
       " 'u',\n",
       " 'v',\n",
       " 'w',\n",
       " 'x',\n",
       " 'y',\n",
       " 'z',\n",
       " '¦',\n",
       " '©',\n",
       " '±',\n",
       " '³',\n",
       " '½',\n",
       " 'Â',\n",
       " 'Ã',\n",
       " 'â',\n",
       " '˜',\n",
       " '“',\n",
       " '”',\n",
       " '€'}"
      ]
     },
     "execution_count": 154,
     "metadata": {},
     "output_type": "execute_result"
    }
   ],
   "source": [
    "unique_characters(df['Text'])"
   ]
  },
  {
   "cell_type": "code",
   "execution_count": 130,
   "metadata": {
    "extensions": {
     "jupyter_dashboards": {
      "activeView": "grid_default",
      "views": {
       "grid_default": {
        "col": null,
        "height": 2,
        "hidden": true,
        "row": null,
        "width": 2
       }
      }
     }
    }
   },
   "outputs": [
    {
     "data": {
      "text/html": [
       "<div>\n",
       "<style scoped>\n",
       "    .dataframe tbody tr th:only-of-type {\n",
       "        vertical-align: middle;\n",
       "    }\n",
       "\n",
       "    .dataframe tbody tr th {\n",
       "        vertical-align: top;\n",
       "    }\n",
       "\n",
       "    .dataframe thead th {\n",
       "        text-align: right;\n",
       "    }\n",
       "</style>\n",
       "<table border=\"1\" class=\"dataframe\">\n",
       "  <thead>\n",
       "    <tr style=\"text-align: right;\">\n",
       "      <th></th>\n",
       "      <th>Grade</th>\n",
       "      <th>Text</th>\n",
       "      <th>Text Without Weirdness</th>\n",
       "      <th>Full Tokens</th>\n",
       "      <th>Tokens</th>\n",
       "      <th>Lemmas</th>\n",
       "    </tr>\n",
       "  </thead>\n",
       "  <tbody>\n",
       "    <tr>\n",
       "      <th>0</th>\n",
       "      <td>1</td>\n",
       "      <td>\"How Much I Know About Space I had just gone t...</td>\n",
       "      <td>How Much I Know About Space I had just gone to...</td>\n",
       "      <td>[How, Much, I, Know, About, Space, I, had, jus...</td>\n",
       "      <td>[how, much, i, know, about, space, i, had, jus...</td>\n",
       "      <td>[how, much, i, know, about, space, i, have, ju...</td>\n",
       "    </tr>\n",
       "    <tr>\n",
       "      <th>1</th>\n",
       "      <td>1</td>\n",
       "      <td>\"My Favorite Pet My cat is fluffy. His name is...</td>\n",
       "      <td>My Favorite Pet My cat is fluffy. His name is ...</td>\n",
       "      <td>[My, Favorite, Pet, My, cat, is, fluffy., His,...</td>\n",
       "      <td>[my, favorite, pet, my, cat, is, fluffy, his, ...</td>\n",
       "      <td>[my, favorite, pet, my, cat, be, fluffy, his, ...</td>\n",
       "    </tr>\n",
       "    <tr>\n",
       "      <th>2</th>\n",
       "      <td>1</td>\n",
       "      <td>\"Sweet Spring Spring is sweet because we can g...</td>\n",
       "      <td>Sweet Spring Spring is sweet because we can go...</td>\n",
       "      <td>[Sweet, Spring, Spring, is, sweet, because, we...</td>\n",
       "      <td>[sweet, spring, spring, is, sweet, because, we...</td>\n",
       "      <td>[sweet, spring, spring, be, sweet, because, we...</td>\n",
       "    </tr>\n",
       "    <tr>\n",
       "      <th>3</th>\n",
       "      <td>1</td>\n",
       "      <td>\"A Happy Day One day baby Josh came home. He w...</td>\n",
       "      <td>A Happy Day One day baby Josh came home. He wa...</td>\n",
       "      <td>[A, Happy, Day, One, day, baby, Josh, came, ho...</td>\n",
       "      <td>[a, happy, day, one, day, baby, josh, came, ho...</td>\n",
       "      <td>[a, happy, day, one, day, baby, josh, come, ho...</td>\n",
       "    </tr>\n",
       "    <tr>\n",
       "      <th>4</th>\n",
       "      <td>1</td>\n",
       "      <td>\"My Trip to Mexico One time I went to Mexico. ...</td>\n",
       "      <td>My Trip to Mexico One time I went to Mexico. I...</td>\n",
       "      <td>[My, Trip, to, Mexico, One, time, I, went, to,...</td>\n",
       "      <td>[my, trip, to, mexico, one, time, i, went, to,...</td>\n",
       "      <td>[my, trip, to, mexico, one, time, i, go, to, m...</td>\n",
       "    </tr>\n",
       "    <tr>\n",
       "      <th>...</th>\n",
       "      <td>...</td>\n",
       "      <td>...</td>\n",
       "      <td>...</td>\n",
       "      <td>...</td>\n",
       "      <td>...</td>\n",
       "      <td>...</td>\n",
       "    </tr>\n",
       "    <tr>\n",
       "      <th>284</th>\n",
       "      <td>0</td>\n",
       "      <td>\"Make Way for Ducklings I like Make Way for Du...</td>\n",
       "      <td>Make Way for Ducklings I like Make Way for Duc...</td>\n",
       "      <td>[Make, Way, for, Ducklings, I, like, Make, Way...</td>\n",
       "      <td>[make, way, for, ducklings, i, like, make, way...</td>\n",
       "      <td>[make, way, for, duckling, i, like, make, way,...</td>\n",
       "    </tr>\n",
       "    <tr>\n",
       "      <th>285</th>\n",
       "      <td>0</td>\n",
       "      <td>\"My mom is special because she plays with me.\"</td>\n",
       "      <td>My mom is special because she plays with me.</td>\n",
       "      <td>[My, mom, is, special, because, she, plays, wi...</td>\n",
       "      <td>[my, mom, is, special, because, she, plays, wi...</td>\n",
       "      <td>[my, mom, be, special, because, she, play, wit...</td>\n",
       "    </tr>\n",
       "    <tr>\n",
       "      <th>286</th>\n",
       "      <td>11</td>\n",
       "      <td>\"To whom it may concern: A group of parents an...</td>\n",
       "      <td>To whom it may concern: A group of parents and...</td>\n",
       "      <td>[To, whom, it, may, concern:, A, group, of, pa...</td>\n",
       "      <td>[to, whom, it, may, concern, a, group, of, par...</td>\n",
       "      <td>[to, whom, it, may, concern, a, group, of, par...</td>\n",
       "    </tr>\n",
       "    <tr>\n",
       "      <th>287</th>\n",
       "      <td>9</td>\n",
       "      <td>\"To Teachers and Whom It May Concern: A propos...</td>\n",
       "      <td>To Teachers and Whom It May Concern: A proposa...</td>\n",
       "      <td>[To, Teachers, and, Whom, It, May, Concern:, A...</td>\n",
       "      <td>[to, teachers, and, whom, it, may, concern, a,...</td>\n",
       "      <td>[to, teacher, and, whom, it, may, concern, a, ...</td>\n",
       "    </tr>\n",
       "    <tr>\n",
       "      <th>288</th>\n",
       "      <td>6</td>\n",
       "      <td>\"Tom Sawyer Having complicated characters in a...</td>\n",
       "      <td>Tom Sawyer Having complicated characters in a ...</td>\n",
       "      <td>[Tom, Sawyer, Having, complicated, characters,...</td>\n",
       "      <td>[tom, sawyer, having, complicated, characters,...</td>\n",
       "      <td>[tom, sawyer, have, complicate, character, in,...</td>\n",
       "    </tr>\n",
       "  </tbody>\n",
       "</table>\n",
       "<p>289 rows × 6 columns</p>\n",
       "</div>"
      ],
      "text/plain": [
       "     Grade                                               Text  \\\n",
       "0        1  \"How Much I Know About Space I had just gone t...   \n",
       "1        1  \"My Favorite Pet My cat is fluffy. His name is...   \n",
       "2        1  \"Sweet Spring Spring is sweet because we can g...   \n",
       "3        1  \"A Happy Day One day baby Josh came home. He w...   \n",
       "4        1  \"My Trip to Mexico One time I went to Mexico. ...   \n",
       "..     ...                                                ...   \n",
       "284      0  \"Make Way for Ducklings I like Make Way for Du...   \n",
       "285      0     \"My mom is special because she plays with me.\"   \n",
       "286     11  \"To whom it may concern: A group of parents an...   \n",
       "287      9  \"To Teachers and Whom It May Concern: A propos...   \n",
       "288      6  \"Tom Sawyer Having complicated characters in a...   \n",
       "\n",
       "                                Text Without Weirdness  \\\n",
       "0    How Much I Know About Space I had just gone to...   \n",
       "1    My Favorite Pet My cat is fluffy. His name is ...   \n",
       "2    Sweet Spring Spring is sweet because we can go...   \n",
       "3    A Happy Day One day baby Josh came home. He wa...   \n",
       "4    My Trip to Mexico One time I went to Mexico. I...   \n",
       "..                                                 ...   \n",
       "284  Make Way for Ducklings I like Make Way for Duc...   \n",
       "285       My mom is special because she plays with me.   \n",
       "286  To whom it may concern: A group of parents and...   \n",
       "287  To Teachers and Whom It May Concern: A proposa...   \n",
       "288  Tom Sawyer Having complicated characters in a ...   \n",
       "\n",
       "                                           Full Tokens  \\\n",
       "0    [How, Much, I, Know, About, Space, I, had, jus...   \n",
       "1    [My, Favorite, Pet, My, cat, is, fluffy., His,...   \n",
       "2    [Sweet, Spring, Spring, is, sweet, because, we...   \n",
       "3    [A, Happy, Day, One, day, baby, Josh, came, ho...   \n",
       "4    [My, Trip, to, Mexico, One, time, I, went, to,...   \n",
       "..                                                 ...   \n",
       "284  [Make, Way, for, Ducklings, I, like, Make, Way...   \n",
       "285  [My, mom, is, special, because, she, plays, wi...   \n",
       "286  [To, whom, it, may, concern:, A, group, of, pa...   \n",
       "287  [To, Teachers, and, Whom, It, May, Concern:, A...   \n",
       "288  [Tom, Sawyer, Having, complicated, characters,...   \n",
       "\n",
       "                                                Tokens  \\\n",
       "0    [how, much, i, know, about, space, i, had, jus...   \n",
       "1    [my, favorite, pet, my, cat, is, fluffy, his, ...   \n",
       "2    [sweet, spring, spring, is, sweet, because, we...   \n",
       "3    [a, happy, day, one, day, baby, josh, came, ho...   \n",
       "4    [my, trip, to, mexico, one, time, i, went, to,...   \n",
       "..                                                 ...   \n",
       "284  [make, way, for, ducklings, i, like, make, way...   \n",
       "285  [my, mom, is, special, because, she, plays, wi...   \n",
       "286  [to, whom, it, may, concern, a, group, of, par...   \n",
       "287  [to, teachers, and, whom, it, may, concern, a,...   \n",
       "288  [tom, sawyer, having, complicated, characters,...   \n",
       "\n",
       "                                                Lemmas  \n",
       "0    [how, much, i, know, about, space, i, have, ju...  \n",
       "1    [my, favorite, pet, my, cat, be, fluffy, his, ...  \n",
       "2    [sweet, spring, spring, be, sweet, because, we...  \n",
       "3    [a, happy, day, one, day, baby, josh, come, ho...  \n",
       "4    [my, trip, to, mexico, one, time, i, go, to, m...  \n",
       "..                                                 ...  \n",
       "284  [make, way, for, duckling, i, like, make, way,...  \n",
       "285  [my, mom, be, special, because, she, play, wit...  \n",
       "286  [to, whom, it, may, concern, a, group, of, par...  \n",
       "287  [to, teacher, and, whom, it, may, concern, a, ...  \n",
       "288  [tom, sawyer, have, complicate, character, in,...  \n",
       "\n",
       "[289 rows x 6 columns]"
      ]
     },
     "execution_count": 155,
     "metadata": {},
     "output_type": "execute_result"
    }
   ],
   "source": [
    "df['Text Without Weirdness'] = df.Text.apply(remove_weird_chars)\n",
    "df['Full Tokens'] = df.Text.apply(remove_weird_chars).str.split()\n",
    "df['Tokens'] = clean_tokenize(df.Text)\n",
    "df['Lemmas'] = lemmatize(df.Tokens)\n",
    "df"
   ]
  },
  {
   "cell_type": "code",
   "execution_count": 131,
   "metadata": {
    "extensions": {
     "jupyter_dashboards": {
      "activeView": "grid_default",
      "views": {
       "grid_default": {
        "col": null,
        "height": 2,
        "hidden": true,
        "row": null,
        "width": 2
       }
      }
     }
    }
   },
   "outputs": [
    {
     "data": {
      "text/plain": [
       "{'a',\n",
       " 'b',\n",
       " 'c',\n",
       " 'd',\n",
       " 'e',\n",
       " 'f',\n",
       " 'g',\n",
       " 'h',\n",
       " 'i',\n",
       " 'j',\n",
       " 'k',\n",
       " 'l',\n",
       " 'm',\n",
       " 'n',\n",
       " 'o',\n",
       " 'p',\n",
       " 'q',\n",
       " 'r',\n",
       " 's',\n",
       " 't',\n",
       " 'u',\n",
       " 'v',\n",
       " 'w',\n",
       " 'x',\n",
       " 'y',\n",
       " 'z'}"
      ]
     },
     "execution_count": 156,
     "metadata": {},
     "output_type": "execute_result"
    }
   ],
   "source": [
    "unique_characters(df['Tokens'].apply(''.join))"
   ]
  },
  {
   "cell_type": "code",
   "execution_count": 162,
   "metadata": {
    "extensions": {
     "jupyter_dashboards": {
      "activeView": "grid_default",
      "views": {
       "grid_default": {
        "col": null,
        "height": 2,
        "hidden": true,
        "row": null,
        "width": 2
       }
      }
     }
    }
   },
   "outputs": [
    {
     "data": {
      "text/plain": [
       "'\"Caught in the Net Hello. My name is Kim. Im an online-aholic. There. Ive said it. I guess Ive been addicted for quite some time now but I have just begun to realize it. My first interaction with the Net began when I was only 15 years old. My dad was the computer coordinator at our school so he wanted to try Internet access at home before installing it at school. We became America Online members in 1993. None of my friends had email back then. My relationship with email started like a Romeo/Juliet conspiracy. I experimented with the Net on the sly at night when the rest of my family was sleeping. Thats when I first created my own screen name. Although I was too young to drive the locked doors of adolescence were suddenly flung open before me. I could be social in the evening rather than hang out with my familyâ€”the typical family that every adolescent wants to escape from. Hanging out in chat rooms became a nightly ritual. I quickly found friends who would meet me there give advice for my adolescent problems and discuss things such as dating theater religion morals and entertainment. I began to form emotional attachments with these new friends. In fact I maintained two online relationships for over two years. Raul is a Hispanic teenager living in one of the roughest cities in our nation Compton Californiaâ€”the filming location of the 1991 movie Boyz N the Hood. I met Raul in a chat room one night. He sent me an instant message in the middle of a discussion about religion and asked what I believed. My subsequent chats with Raul seemed to have an impact on him and helped me to grow in my own faith. I occasionally took Rauls questions to my preacher or Bible teacher when I needed further explanation. For Rauls 18th birthday I sent him a Bible that I bought with my paper-route earnings. Raul and I wrote each other for two years and then Raul had to sell his computer. I havent heard from him since. Brian is a middle-aged high-school theater teacher in Bowie Maryland. He answered one of my message board posts about an upcoming audition for our schools performance of The Sound of Music. I was 17 years old at the time and greatly desired a part in the musical. Brian had expert advice for how to nail the audition and as a result I was cast in the role of Maria. Needless to say we began to communicate regularly via email. My high school drama director had very little experience so I wrote Brian regarding my struggles with developing character. Brian has written on numerous occasions about coming to see me perform but it hasnt happened yet. Instead I mail him videos of my performances. We have been writing for four years now and I never perform without reading advice from him before going on stage. To this day he is still my mentor even though Ive never seen a picture of him or heard his voice. Perhaps communicating with my new friends wouldnt have been so bad except that I went online nightly. I remember my mom coming out of her bedroom at 2:00 a.m. her eyes unaccustomed to the light her hair tousled from sleep and her robe wrapped tightly around her cold sluggish body. What are you still doing up? she would ask. Go to bed! Now that Im 20 years old and in college not much has changed. I still stay up late writing email only now I dont have anyone to tell me to go to bed! I can disguise my Internet addiction by going to a computer center and frantically typing away at a computer terminal. Little does everyone else know how often Im not doing school research or paper writing; instead Im aimlessly writing emails or chatting with Internet friends and family hundreds of miles away. The Signs I recently took an online Internet Addiction Test to diagnose the severity of my problem. The test included 10 symptoms of Internet addiction. I evaluated each symptom carefully and related it to my own life. Uses online services everyday without any skipping. Well yes this is true. The first thing I do when I wake up every morning is log on and check my email. I have a daily electronic newspaper and weather report waiting for me (delivered at 7:30 a.m. just like our tangible newspaper at home). My computer stays logged on all day and the last thing I do before I go to bed is check my email again just in case theres a message waiting for me. I figure Why let an email wait unopened when I could just as well read it now? Loses track of time after making a connection. This is true of me also. Just the other day I sat down by my computer after classes were done for the day. I had an hour before choir and a whole pile of reading that needed to be done. Ill just quickly check my mail I thought and then Ill do my reading. Instead I ended up doing email and Internet browsing for the entire hour and was even two minutes late for choir. Countless times Ive said only one more minute to myself or to friends who ask how much longer Ill be playing on the computerâ€”but quite often that minute turns into hours. Goes out less and less. Not true. I still have a very active social life. Perhaps I spend less time on homework due to Internet use but not less time socializing. Spends less and less time on meals at home or at work and eats in front of the monitor. Occasionally I eat my lunch in front of my computerâ€”but thats just good time management isnt it? On these occasions I am pressed for time to get to my next class so I eat and do my email at the same time. There is the small problem of crumbs falling into the keyboard or greasy fingers brushing the tops of the keys but I dont worry about these things when I want to check my email. Denies spending too much time on the Net. What? I dont spend too much time on the Net! Others complain that you spend too much time in front of the monitor. At home my mom often complained about my time in front of the monitor. While my family watched football around the TV on Sunday afternoons I had personal chats with friends online. Now that Im away from home my roommates tease me about my time online. But I acknowledge that I do spend twice (maybe three or four times) as much time online as do all of my other friends and roommates. Checks the electronic mailbox too many times a day. I estimate that I check my email 20-30 times throughout the day. Quite often its just out of habit when I enter or exit my roomâ€”its so easy to click the Get mail button. Perhaps its too accessible for me. I can check my email as a study break in the middle of an assignment or when I have 10 extra minutes before class. My friends ask if I get discouraged when I check and dont have mail. I dont. Sure Id like to see new mail appear rather than No new messages on server but maybe Im used to it by now. With an average of 10 messages received per day Im used to not having email every time I check. Thinks he or she has the greatest Web site in the world and dies to give people the URL (Internet address). Nope not me. I dont have my own Web site. (But if I knew how to create one I think Id be interested.) Logs onto the Net while already busy at work. In regard to schoolwork yes I check my email or go to the Internet several times while busy on other assignments. I find that my Internet use is most frequent when Im procrastinating over an urgent assignment or when Im waiting for an idea to hit me. I dodge the pressure of schoolwork by exercising the power I have online to communicate with others or locate mountains of useless information. Sneaks online with a sense of relief when spouse or family members are not at home. Not anymore. Im pretty open with my time online. However I do find myself secretly hoping that other people think Im studiousâ€”doing homeworkâ€”rather than writing another measly email. Cold Turkey The results of this Internet Addiction Test indicated that I answered yes to 7 of the 10 symptoms and may very well be addicted to the Net. I was shocked! Sure I spend more time online than most other people I know do but I never realized that my time on the computer could become an addiction. It was at this point that essayist Askold Melnyczuks words hit home: Technology is addicting: the habit is hard to break. Like heroin it feeds on our wish to escape the limits of time and space; and it consumes us. In response to this discovery I decided to take a 24-hour break from the Netâ€”a standstill on email instant messages and Web surfing. I told my roommates of my decision and found a sign affixed to my computer screen the next day holding me to my word: Stay strong my friend! 24 hours is only one day. You can do it! The clock is tickin! NO EMAIL marathon. The messages will still be thereâ€¦ It wasnt easy going cold turkey. Every time I walked into my bedroom my hands instantly clenched as that obtrusive sign prevented me from taking a minute to Get mail. While I did go to bed earlierâ€”not allowing myself to check for the latest arriving messages at 1:00 a.m.â€”I hated this moratorium and I complained about it to my roommates. When the 24 hours were finally up I ran back to my room and clicked on my cherished Get mail to find 12 new messages waiting. After this 24-hour marathon I realized that I had real friends in cyberspace. Without the Internet I compromised my ability to stay in touch with these people. I enjoy communicating through instant messages with my mom and brothers. Just the other night I had three small windows on my screen: one from my brother in California one from my brother here at college with me and one from my mom. I was able to chat with all three at the same timeâ€”for free! I guess Im just not quite ready to go cold turkey. Final Evaluation I wonder how many frequent Internet users have taken time to evaluate how the technology has impacted their personal lives. I wonder how many of those who have considered its impact have permanently pulled the plug cut the wire and tossed out the computer and how many others like myself took a short vacation then ran back to the sleeping monitor. Like me many college students are attracted to the unrestricted free and unlimited Internet access available on campuses across the nation. Psychologist Kimberly Young of the University of Pittsburgh-Bradford said College counselors are starting to see those students who cant stop surfing the Net at the risk of jeopardizing their grades. So far my problem has not become this big. My grades are not slipping and I am not in need of counseling. I admit that Im addicted to spending time on the computer and it is difficult for me to go without it. Yet I refuse to completely reject the medium just because my use of it is somewhat irrational. The Internet provides me with a practical form of communication and offers an easily accessible source of information. I enjoy spending time online. I have not substituted Internet relationships for real-life relationships and my Internet addiction is not a threat to my financial and emotional security so I dont see a problem with it. However if I ever do find that Ive gone over the edge I know I can email Dr. Young at her Web site (www.addictionrecov.org). Or I can go to a weekly meeting place for Internet addicts a chat channel called Addictions.com. After all Internet junkies always know where to turn online for help.\"'"
      ]
     },
     "execution_count": 162,
     "metadata": {},
     "output_type": "execute_result"
    }
   ],
   "source": [
    "df.loc[72,'Text']"
   ]
  },
  {
   "cell_type": "code",
   "execution_count": 143,
   "metadata": {
    "extensions": {
     "jupyter_dashboards": {
      "activeView": "grid_default",
      "views": {
       "grid_default": {
        "col": null,
        "height": 2,
        "hidden": true,
        "row": null,
        "width": 2
       }
      }
     }
    }
   },
   "outputs": [
    {
     "data": {
      "text/html": [
       "<div>\n",
       "<style scoped>\n",
       "    .dataframe tbody tr th:only-of-type {\n",
       "        vertical-align: middle;\n",
       "    }\n",
       "\n",
       "    .dataframe tbody tr th {\n",
       "        vertical-align: top;\n",
       "    }\n",
       "\n",
       "    .dataframe thead th {\n",
       "        text-align: right;\n",
       "    }\n",
       "</style>\n",
       "<table border=\"1\" class=\"dataframe\">\n",
       "  <thead>\n",
       "    <tr style=\"text-align: right;\">\n",
       "      <th></th>\n",
       "      <th>Grade</th>\n",
       "      <th>Text</th>\n",
       "      <th>Text Without Weirdness</th>\n",
       "      <th>Full Tokens</th>\n",
       "      <th>Tokens</th>\n",
       "      <th>Lemmas</th>\n",
       "    </tr>\n",
       "  </thead>\n",
       "  <tbody>\n",
       "    <tr>\n",
       "      <th>72</th>\n",
       "      <td>9</td>\n",
       "      <td>\"Caught in the Net Hello. My name is Kim. Im a...</td>\n",
       "      <td>Caught in the Net Hello. My name is Kim. Im an...</td>\n",
       "      <td>[Caught, in, the, Net, Hello., My, name, is, K...</td>\n",
       "      <td>[caught, in, the, net, hello, my, name, is, ki...</td>\n",
       "      <td>[caught, in, the, net, hello, my, name, be, ki...</td>\n",
       "    </tr>\n",
       "    <tr>\n",
       "      <th>77</th>\n",
       "      <td>9</td>\n",
       "      <td>\"Internet Plagiarism Not all thieves lurk in d...</td>\n",
       "      <td>Internet Plagiarism Not all thieves lurk in da...</td>\n",
       "      <td>[Internet, Plagiarism, Not, all, thieves, lurk...</td>\n",
       "      <td>[internet, plagiarism, not, all, thieves, lurk...</td>\n",
       "      <td>[internet, plagiarism, not, all, thief, lurk, ...</td>\n",
       "    </tr>\n",
       "  </tbody>\n",
       "</table>\n",
       "</div>"
      ],
      "text/plain": [
       "    Grade                                               Text  \\\n",
       "72      9  \"Caught in the Net Hello. My name is Kim. Im a...   \n",
       "77      9  \"Internet Plagiarism Not all thieves lurk in d...   \n",
       "\n",
       "                               Text Without Weirdness  \\\n",
       "72  Caught in the Net Hello. My name is Kim. Im an...   \n",
       "77  Internet Plagiarism Not all thieves lurk in da...   \n",
       "\n",
       "                                          Full Tokens  \\\n",
       "72  [Caught, in, the, Net, Hello., My, name, is, K...   \n",
       "77  [Internet, Plagiarism, Not, all, thieves, lurk...   \n",
       "\n",
       "                                               Tokens  \\\n",
       "72  [caught, in, the, net, hello, my, name, is, ki...   \n",
       "77  [internet, plagiarism, not, all, thieves, lurk...   \n",
       "\n",
       "                                               Lemmas  \n",
       "72  [caught, in, the, net, hello, my, name, be, ki...  \n",
       "77  [internet, plagiarism, not, all, thief, lurk, ...  "
      ]
     },
     "execution_count": 158,
     "metadata": {},
     "output_type": "execute_result"
    }
   ],
   "source": [
    "df[df.Text.str.contains('.com', regex=False)]"
   ]
  },
  {
   "cell_type": "code",
   "execution_count": null,
   "metadata": {
    "extensions": {
     "jupyter_dashboards": {
      "activeView": "grid_default",
      "views": {
       "grid_default": {
        "col": null,
        "height": 2,
        "hidden": true,
        "row": null,
        "width": 2
       }
      }
     }
    }
   },
   "outputs": [],
   "source": []
  }
 ],
 "metadata": {
  "extensions": {
   "jupyter_dashboards": {
    "activeView": "grid_default",
    "version": 1,
    "views": {
     "grid_default": {
      "cellMargin": 10,
      "defaultCellHeight": 60,
      "maxColumns": 12,
      "name": "grid",
      "type": "grid"
     }
    }
   }
  },
  "kernelspec": {
   "display_name": "Python 3",
   "language": "python",
   "name": "python3"
  },
  "language_info": {
   "codemirror_mode": {
    "name": "ipython",
    "version": 3
   },
   "file_extension": ".py",
   "mimetype": "text/x-python",
   "name": "python",
   "nbconvert_exporter": "python",
   "pygments_lexer": "ipython3",
   "version": "3.8.3"
  }
 },
 "nbformat": 4,
 "nbformat_minor": 4
}
