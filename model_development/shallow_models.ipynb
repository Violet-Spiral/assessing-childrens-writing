{
 "cells": [
  {
   "cell_type": "markdown",
   "metadata": {},
   "source": [
    "## TFIDF First Simple Model\n",
    "Logistic Regression out of the box, n-grams=1"
   ]
  },
  {
   "cell_type": "code",
   "execution_count": 8,
   "metadata": {},
   "outputs": [],
   "source": [
    "import pandas as pd\n",
    "import numpy as np\n",
    "\n",
    "from sklearn.linear_model import LinearRegression\n",
    "from sklearn.tree import DecisionTreeRegressor\n",
    "from sklearn.ensemble import RandomForestRegressor\n",
    "from sklearn.model_selection import train_test_split, cross_val_score, GridSearchCV\n",
    "from sklearn.feature_extraction.text import TfidfVectorizer, CountVectorizer\n",
    "from sklearn.pipeline import Pipeline\n",
    "\n",
    "import matplotlib.pyplot as plt\n",
    "\n",
    "import re\n",
    "from src import *\n",
    "import warnings\n",
    "warnings.filterwarnings('ignore')"
   ]
  },
  {
   "cell_type": "code",
   "execution_count": 9,
   "metadata": {},
   "outputs": [
    {
     "data": {
      "text/html": [
       "<div>\n",
       "<style scoped>\n",
       "    .dataframe tbody tr th:only-of-type {\n",
       "        vertical-align: middle;\n",
       "    }\n",
       "\n",
       "    .dataframe tbody tr th {\n",
       "        vertical-align: top;\n",
       "    }\n",
       "\n",
       "    .dataframe thead th {\n",
       "        text-align: right;\n",
       "    }\n",
       "</style>\n",
       "<table border=\"1\" class=\"dataframe\">\n",
       "  <thead>\n",
       "    <tr style=\"text-align: right;\">\n",
       "      <th></th>\n",
       "      <th>Text</th>\n",
       "      <th>Grade</th>\n",
       "    </tr>\n",
       "  </thead>\n",
       "  <tbody>\n",
       "    <tr>\n",
       "      <th>0</th>\n",
       "      <td>I had just gone to + chobot + space and + scie...</td>\n",
       "      <td>1.0</td>\n",
       "    </tr>\n",
       "    <tr>\n",
       "      <th>1</th>\n",
       "      <td>+ when I got there I didnt even know one plan...</td>\n",
       "      <td>1.0</td>\n",
       "    </tr>\n",
       "    <tr>\n",
       "      <th>2</th>\n",
       "      <td>+ soon I learned all eight planets in our sol...</td>\n",
       "      <td>1.0</td>\n",
       "    </tr>\n",
       "    <tr>\n",
       "      <th>3</th>\n",
       "      <td>I learned what the first rocket ship looked l...</td>\n",
       "      <td>1.0</td>\n",
       "    </tr>\n",
       "    <tr>\n",
       "      <th>4</th>\n",
       "      <td>I learned how to land a rocket ship</td>\n",
       "      <td>1.0</td>\n",
       "    </tr>\n",
       "  </tbody>\n",
       "</table>\n",
       "</div>"
      ],
      "text/plain": [
       "                                                Text  Grade\n",
       "0  I had just gone to + chobot + space and + scie...    1.0\n",
       "1   + when I got there I didnt even know one plan...    1.0\n",
       "2   + soon I learned all eight planets in our sol...    1.0\n",
       "3   I learned what the first rocket ship looked l...    1.0\n",
       "4               I learned how to land a rocket ship     1.0"
      ]
     },
     "execution_count": 9,
     "metadata": {},
     "output_type": "execute_result"
    }
   ],
   "source": [
    "df = load_text(sentences=True, grammarize=True)\n",
    "df.head()"
   ]
  },
  {
   "cell_type": "code",
   "execution_count": 21,
   "metadata": {},
   "outputs": [],
   "source": [
    "def assess_model(model, scores, X_train, y_train, ngram_range=(1,3)):\n",
    "    for ngram in range(ngram_range[0],ngram_range[1]+1):\n",
    "        lr_count_pipe = Pipeline([('vectorizer', CountVectorizer(ngram_range=(1,ngram))),\n",
    "                                  ('logreg', model)])\n",
    "        lr_tfidf_pipe = Pipeline([('vectorizer', TfidfVectorizer(ngram_range=(1,ngram))),\n",
    "                              ('logreg', model)])\n",
    "        tfidf_scores = cross_val_score(lr_tfidf_pipe, X_train, y_train, cv=3, \n",
    "                                         scoring='neg_mean_absolute_error')\n",
    "        \n",
    "        count_scores = cross_val_score(lr_count_pipe, X_train, y_train, cv=3, \n",
    "                                         scoring='neg_mean_absolute_error')\n",
    "        scores = scores.append({'model':type(model).__name__,\n",
    "                        'encoding':'Count Vectors',\n",
    "                        'ngram':ngram,\n",
    "                       'score':-np.mean(count_scores)},\n",
    "                      ignore_index=True)\n",
    "\n",
    "        scores = scores.append({'model':type(model).__name__,\n",
    "                        'encoding':'TF-IDF Vectors',\n",
    "                        'ngram':ngram,\n",
    "                      'score':-np.mean(tfidf_scores)},\n",
    "                      ignore_index=True)\n",
    "        print('finished ngram', ngram)\n",
    "        \n",
    "    return scores\n",
    "                 "
   ]
  },
  {
   "cell_type": "code",
   "execution_count": 26,
   "metadata": {},
   "outputs": [],
   "source": [
    "X = df.Text\n",
    "y = df.Grade\n",
    "## Split lemma train and test sets\n",
    "\n",
    "X_train, X_test, y_train, y_test = train_test_split(X, y, stratify=y, random_state=11)\n",
    "scores = pd.DataFrame(columns = ['model','ngram','encoding'])"
   ]
  },
  {
   "cell_type": "code",
   "execution_count": 23,
   "metadata": {},
   "outputs": [
    {
     "name": "stdout",
     "output_type": "stream",
     "text": [
      "finished ngram 1\n",
      "finished ngram 2\n",
      "finished ngram 3\n"
     ]
    }
   ],
   "source": [
    "scores = assess_model(LinearRegression(), scores, X_train, y_train, ngram_range=(1,3))"
   ]
  },
  {
   "cell_type": "code",
   "execution_count": 27,
   "metadata": {},
   "outputs": [
    {
     "name": "stdout",
     "output_type": "stream",
     "text": [
      "finished ngram 1\n",
      "finished ngram 2\n",
      "finished ngram 3\n"
     ]
    }
   ],
   "source": [
    "scores = assess_model(DecisionTreeRegressor(), scores, X_train, y_train, ngram_range=(1,3))"
   ]
  },
  {
   "cell_type": "code",
   "execution_count": 28,
   "metadata": {},
   "outputs": [
    {
     "name": "stdout",
     "output_type": "stream",
     "text": [
      "finished ngram 1\n",
      "finished ngram 2\n",
      "finished ngram 3\n"
     ]
    }
   ],
   "source": [
    "scores = assess_model(RandomForestRegressor(), scores, X_train, y_train, ngram_range=(1,3))"
   ]
  },
  {
   "cell_type": "code",
   "execution_count": 29,
   "metadata": {},
   "outputs": [
    {
     "data": {
      "text/html": [
       "<div>\n",
       "<style scoped>\n",
       "    .dataframe tbody tr th:only-of-type {\n",
       "        vertical-align: middle;\n",
       "    }\n",
       "\n",
       "    .dataframe tbody tr th {\n",
       "        vertical-align: top;\n",
       "    }\n",
       "\n",
       "    .dataframe thead th {\n",
       "        text-align: right;\n",
       "    }\n",
       "</style>\n",
       "<table border=\"1\" class=\"dataframe\">\n",
       "  <thead>\n",
       "    <tr style=\"text-align: right;\">\n",
       "      <th></th>\n",
       "      <th>model</th>\n",
       "      <th>ngram</th>\n",
       "      <th>encoding</th>\n",
       "      <th>score</th>\n",
       "    </tr>\n",
       "  </thead>\n",
       "  <tbody>\n",
       "    <tr>\n",
       "      <th>6</th>\n",
       "      <td>RandomForestRegressor</td>\n",
       "      <td>1</td>\n",
       "      <td>Count Vectors</td>\n",
       "      <td>2.099235</td>\n",
       "    </tr>\n",
       "    <tr>\n",
       "      <th>8</th>\n",
       "      <td>RandomForestRegressor</td>\n",
       "      <td>2</td>\n",
       "      <td>Count Vectors</td>\n",
       "      <td>2.103188</td>\n",
       "    </tr>\n",
       "    <tr>\n",
       "      <th>10</th>\n",
       "      <td>RandomForestRegressor</td>\n",
       "      <td>3</td>\n",
       "      <td>Count Vectors</td>\n",
       "      <td>2.112516</td>\n",
       "    </tr>\n",
       "    <tr>\n",
       "      <th>7</th>\n",
       "      <td>RandomForestRegressor</td>\n",
       "      <td>1</td>\n",
       "      <td>TF-IDF Vectors</td>\n",
       "      <td>2.120977</td>\n",
       "    </tr>\n",
       "    <tr>\n",
       "      <th>9</th>\n",
       "      <td>RandomForestRegressor</td>\n",
       "      <td>2</td>\n",
       "      <td>TF-IDF Vectors</td>\n",
       "      <td>2.201663</td>\n",
       "    </tr>\n",
       "    <tr>\n",
       "      <th>11</th>\n",
       "      <td>RandomForestRegressor</td>\n",
       "      <td>3</td>\n",
       "      <td>TF-IDF Vectors</td>\n",
       "      <td>2.258665</td>\n",
       "    </tr>\n",
       "    <tr>\n",
       "      <th>2</th>\n",
       "      <td>DecisionTreeRegressor</td>\n",
       "      <td>2</td>\n",
       "      <td>Count Vectors</td>\n",
       "      <td>2.484527</td>\n",
       "    </tr>\n",
       "    <tr>\n",
       "      <th>4</th>\n",
       "      <td>DecisionTreeRegressor</td>\n",
       "      <td>3</td>\n",
       "      <td>Count Vectors</td>\n",
       "      <td>2.502129</td>\n",
       "    </tr>\n",
       "    <tr>\n",
       "      <th>0</th>\n",
       "      <td>DecisionTreeRegressor</td>\n",
       "      <td>1</td>\n",
       "      <td>Count Vectors</td>\n",
       "      <td>2.514203</td>\n",
       "    </tr>\n",
       "    <tr>\n",
       "      <th>1</th>\n",
       "      <td>DecisionTreeRegressor</td>\n",
       "      <td>1</td>\n",
       "      <td>TF-IDF Vectors</td>\n",
       "      <td>2.555364</td>\n",
       "    </tr>\n",
       "    <tr>\n",
       "      <th>3</th>\n",
       "      <td>DecisionTreeRegressor</td>\n",
       "      <td>2</td>\n",
       "      <td>TF-IDF Vectors</td>\n",
       "      <td>2.774211</td>\n",
       "    </tr>\n",
       "    <tr>\n",
       "      <th>5</th>\n",
       "      <td>DecisionTreeRegressor</td>\n",
       "      <td>3</td>\n",
       "      <td>TF-IDF Vectors</td>\n",
       "      <td>2.834575</td>\n",
       "    </tr>\n",
       "  </tbody>\n",
       "</table>\n",
       "</div>"
      ],
      "text/plain": [
       "                    model ngram        encoding     score\n",
       "6   RandomForestRegressor     1   Count Vectors  2.099235\n",
       "8   RandomForestRegressor     2   Count Vectors  2.103188\n",
       "10  RandomForestRegressor     3   Count Vectors  2.112516\n",
       "7   RandomForestRegressor     1  TF-IDF Vectors  2.120977\n",
       "9   RandomForestRegressor     2  TF-IDF Vectors  2.201663\n",
       "11  RandomForestRegressor     3  TF-IDF Vectors  2.258665\n",
       "2   DecisionTreeRegressor     2   Count Vectors  2.484527\n",
       "4   DecisionTreeRegressor     3   Count Vectors  2.502129\n",
       "0   DecisionTreeRegressor     1   Count Vectors  2.514203\n",
       "1   DecisionTreeRegressor     1  TF-IDF Vectors  2.555364\n",
       "3   DecisionTreeRegressor     2  TF-IDF Vectors  2.774211\n",
       "5   DecisionTreeRegressor     3  TF-IDF Vectors  2.834575"
      ]
     },
     "execution_count": 29,
     "metadata": {},
     "output_type": "execute_result"
    }
   ],
   "source": [
    "scores.sort_values(by=['score'])"
   ]
  },
  {
   "cell_type": "code",
   "execution_count": 30,
   "metadata": {},
   "outputs": [
    {
     "name": "stdout",
     "output_type": "stream",
     "text": [
      "MAE =  2.042295417803922\n"
     ]
    },
    {
     "data": {
      "image/png": "[encoded data removed]",
      "text/plain": [
       "<Figure size 432x288 with 1 Axes>"
      ]
     },
     "metadata": {
      "needs_background": "light"
     },
     "output_type": "display_data"
    }
   ],
   "source": [
    "model = RandomForestRegressor()\n",
    "rf_count_pipe = Pipeline([('vectorizer', CountVectorizer()),\n",
    "                      ('RFreg', model)])\n",
    "rf_count_pipe.fit(X_train, y_train)\n",
    "yhat = rf_count_pipe.predict(X_test)\n",
    "print('MAE = ', np.sum(np.abs(y_test - yhat))/len(y_test))\n",
    "plt.hist(yhat - y_test)\n",
    "plt.show()"
   ]
  },
  {
   "cell_type": "code",
   "execution_count": 32,
   "metadata": {},
   "outputs": [
    {
     "name": "stdout",
     "output_type": "stream",
     "text": [
      "-2.060930371143514\n",
      "{'RFreg__max_depth': None, 'RFreg__n_estimators': 1000}\n"
     ]
    }
   ],
   "source": [
    "rf_count_pipe = Pipeline([('vectorizer', CountVectorizer()),\n",
    "                      ('RFreg', model)])\n",
    "param_grid = [{'RFreg__n_estimators':[100,200,300,400, 500, 1000],\n",
    "              'RFreg__max_depth':[4,6,None],\n",
    "              }]\n",
    "clf = GridSearchCV(rf_count_pipe,\n",
    "                  param_grid, scoring='neg_mean_absolute_error')\n",
    "clf.fit(X_train, y_train)\n",
    "print(clf.best_score_)\n",
    "print(clf.best_params_)"
   ]
  },
  {
   "cell_type": "code",
   "execution_count": 33,
   "metadata": {},
   "outputs": [
    {
     "name": "stdout",
     "output_type": "stream",
     "text": [
      "mae =  2.0405086610998855\n"
     ]
    }
   ],
   "source": [
    "model = clf.best_estimator_\n",
    "yhat = model.predict(X_test)\n",
    "print('mae = ', np.sum(np.abs(y_test - yhat))/len(y_test))"
   ]
  },
  {
   "cell_type": "code",
   "execution_count": 98,
   "metadata": {},
   "outputs": [],
   "source": [
    "# import pickle\n",
    "# pickle.dump(model, open('best_model.pkl','wb'))"
   ]
  },
  {
   "cell_type": "code",
   "execution_count": 128,
   "metadata": {},
   "outputs": [
    {
     "data": {
      "text/plain": [
       "array([4.128])"
      ]
     },
     "execution_count": 128,
     "metadata": {},
     "output_type": "execute_result"
    }
   ],
   "source": [
    "model = pickle.load(open('best_model.pkl','rb'))\n",
    "model.predict([df.grammarized[45]])"
   ]
  },
  {
   "cell_type": "code",
   "execution_count": 129,
   "metadata": {},
   "outputs": [
    {
     "data": {
      "text/plain": [
       "4.0"
      ]
     },
     "execution_count": 129,
     "metadata": {},
     "output_type": "execute_result"
    }
   ],
   "source": [
    "df.Grade[45]"
   ]
  },
  {
   "cell_type": "code",
   "execution_count": null,
   "metadata": {},
   "outputs": [],
   "source": []
  }
 ],
 "metadata": {
  "kernelspec": {
   "display_name": "Python 3",
   "language": "python",
   "name": "python3"
  },
  "language_info": {
   "codemirror_mode": {
    "name": "ipython",
    "version": 3
   },
   "file_extension": ".py",
   "mimetype": "text/x-python",
   "name": "python",
   "nbconvert_exporter": "python",
   "pygments_lexer": "ipython3",
   "version": "3.8.3"
  }
 },
 "nbformat": 4,
 "nbformat_minor": 4
}
