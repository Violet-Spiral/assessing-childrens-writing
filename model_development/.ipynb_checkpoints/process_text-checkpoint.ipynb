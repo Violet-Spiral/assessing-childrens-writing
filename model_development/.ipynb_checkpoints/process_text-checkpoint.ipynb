{
 "cells": [
  {
   "cell_type": "code",
   "execution_count": 289,
   "metadata": {
    "extensions": {
     "jupyter_dashboards": {
      "activeView": "grid_default",
      "views": {
       "grid_default": {
        "col": null,
        "height": 2,
        "hidden": true,
        "row": null,
        "width": 2
       }
      }
     }
    }
   },
   "outputs": [],
   "source": [
    "import pandas as pd\n",
    "from nltk.corpus import wordnet\n",
    "from nltk.stem import WordNetLemmatizer\n",
    "from nltk import pos_tag\n",
    "\n",
    "from string import punctuation\n",
    "\n",
    "from sklearn.model_selection import train_test_split\n",
    "from sklearn.feature_extraction.text import TfidfVectorizer\n",
    "\n",
    "import re"
   ]
  },
  {
   "cell_type": "code",
   "execution_count": 290,
   "metadata": {
    "extensions": {
     "jupyter_dashboards": {
      "activeView": "grid_default",
      "views": {
       "grid_default": {
        "col": null,
        "height": 2,
        "hidden": true,
        "row": null,
        "width": 2
       }
      }
     }
    },
    "scrolled": true
   },
   "outputs": [
    {
     "data": {
      "text/html": [
       "<div>\n",
       "<style scoped>\n",
       "    .dataframe tbody tr th:only-of-type {\n",
       "        vertical-align: middle;\n",
       "    }\n",
       "\n",
       "    .dataframe tbody tr th {\n",
       "        vertical-align: top;\n",
       "    }\n",
       "\n",
       "    .dataframe thead th {\n",
       "        text-align: right;\n",
       "    }\n",
       "</style>\n",
       "<table border=\"1\" class=\"dataframe\">\n",
       "  <thead>\n",
       "    <tr style=\"text-align: right;\">\n",
       "      <th></th>\n",
       "      <th>Grade</th>\n",
       "      <th>Text</th>\n",
       "    </tr>\n",
       "  </thead>\n",
       "  <tbody>\n",
       "    <tr>\n",
       "      <th>0</th>\n",
       "      <td>1</td>\n",
       "      <td>How Much I Know About Space I had just gone to...</td>\n",
       "    </tr>\n",
       "    <tr>\n",
       "      <th>1</th>\n",
       "      <td>1</td>\n",
       "      <td>My Favorite Pet My cat is fluffy. His name is ...</td>\n",
       "    </tr>\n",
       "    <tr>\n",
       "      <th>2</th>\n",
       "      <td>1</td>\n",
       "      <td>Sweet Spring Spring is sweet because we can go...</td>\n",
       "    </tr>\n",
       "    <tr>\n",
       "      <th>3</th>\n",
       "      <td>1</td>\n",
       "      <td>A Happy Day One day baby Josh came home. He wa...</td>\n",
       "    </tr>\n",
       "    <tr>\n",
       "      <th>4</th>\n",
       "      <td>1</td>\n",
       "      <td>My Trip to Mexico One time I went to Mexico. I...</td>\n",
       "    </tr>\n",
       "  </tbody>\n",
       "</table>\n",
       "</div>"
      ],
      "text/plain": [
       "   Grade                                               Text\n",
       "0      1  How Much I Know About Space I had just gone to...\n",
       "1      1  My Favorite Pet My cat is fluffy. His name is ...\n",
       "2      1  Sweet Spring Spring is sweet because we can go...\n",
       "3      1  A Happy Day One day baby Josh came home. He wa...\n",
       "4      1  My Trip to Mexico One time I went to Mexico. I..."
      ]
     },
     "execution_count": 290,
     "metadata": {},
     "output_type": "execute_result"
    }
   ],
   "source": [
    "df = pd.read_csv('../data/samples_with_titles.csv',\n",
    "                   skipinitialspace=True,\n",
    "                   sep=',', \n",
    "                   quotechar='\"', \n",
    "                   escapechar='\\\\',\n",
    "                   error_bad_lines=False,\n",
    "                    usecols = ['Grade','Text'])\n",
    "df.Text = df.Text.str[1:-1]\n",
    "df.head()"
   ]
  },
  {
   "cell_type": "code",
   "execution_count": 291,
   "metadata": {
    "extensions": {
     "jupyter_dashboards": {
      "activeView": "grid_default",
      "views": {
       "grid_default": {
        "col": null,
        "height": 2,
        "hidden": true,
        "row": null,
        "width": 2
       }
      }
     }
    },
    "scrolled": true
   },
   "outputs": [
    {
     "data": {
      "text/html": [
       "<div>\n",
       "<style scoped>\n",
       "    .dataframe tbody tr th:only-of-type {\n",
       "        vertical-align: middle;\n",
       "    }\n",
       "\n",
       "    .dataframe tbody tr th {\n",
       "        vertical-align: top;\n",
       "    }\n",
       "\n",
       "    .dataframe thead th {\n",
       "        text-align: right;\n",
       "    }\n",
       "</style>\n",
       "<table border=\"1\" class=\"dataframe\">\n",
       "  <thead>\n",
       "    <tr style=\"text-align: right;\">\n",
       "      <th></th>\n",
       "      <th>Grade</th>\n",
       "      <th>Text</th>\n",
       "    </tr>\n",
       "  </thead>\n",
       "  <tbody>\n",
       "    <tr>\n",
       "      <th>0</th>\n",
       "      <td>1</td>\n",
       "      <td>I had just gone to Chobot Space and Science Ce...</td>\n",
       "    </tr>\n",
       "    <tr>\n",
       "      <th>1</th>\n",
       "      <td>1</td>\n",
       "      <td>My cat is fluffy. His name is Buzz. He is my f...</td>\n",
       "    </tr>\n",
       "    <tr>\n",
       "      <th>2</th>\n",
       "      <td>1</td>\n",
       "      <td>Spring is sweet because we can go boat riding ...</td>\n",
       "    </tr>\n",
       "    <tr>\n",
       "      <th>3</th>\n",
       "      <td>1</td>\n",
       "      <td>One day baby Josh came home. He was in a yello...</td>\n",
       "    </tr>\n",
       "    <tr>\n",
       "      <th>4</th>\n",
       "      <td>1</td>\n",
       "      <td>One time I went to Mexico. It was a blast! I m...</td>\n",
       "    </tr>\n",
       "    <tr>\n",
       "      <th>...</th>\n",
       "      <td>...</td>\n",
       "      <td>...</td>\n",
       "    </tr>\n",
       "    <tr>\n",
       "      <th>284</th>\n",
       "      <td>0</td>\n",
       "      <td>I like Make Way for Ducklings the best because...</td>\n",
       "    </tr>\n",
       "    <tr>\n",
       "      <th>285</th>\n",
       "      <td>0</td>\n",
       "      <td>My mom is special because she plays with me.</td>\n",
       "    </tr>\n",
       "    <tr>\n",
       "      <th>286</th>\n",
       "      <td>11</td>\n",
       "      <td>To whom it may concern:   A group of parents  ...</td>\n",
       "    </tr>\n",
       "    <tr>\n",
       "      <th>287</th>\n",
       "      <td>9</td>\n",
       "      <td>To Teachers and Whom It May Concern:    A prop...</td>\n",
       "    </tr>\n",
       "    <tr>\n",
       "      <th>288</th>\n",
       "      <td>6</td>\n",
       "      <td>Having complicated characters in a book makes ...</td>\n",
       "    </tr>\n",
       "  </tbody>\n",
       "</table>\n",
       "<p>289 rows × 2 columns</p>\n",
       "</div>"
      ],
      "text/plain": [
       "     Grade                                               Text\n",
       "0        1  I had just gone to Chobot Space and Science Ce...\n",
       "1        1  My cat is fluffy. His name is Buzz. He is my f...\n",
       "2        1  Spring is sweet because we can go boat riding ...\n",
       "3        1  One day baby Josh came home. He was in a yello...\n",
       "4        1  One time I went to Mexico. It was a blast! I m...\n",
       "..     ...                                                ...\n",
       "284      0  I like Make Way for Ducklings the best because...\n",
       "285      0       My mom is special because she plays with me.\n",
       "286     11  To whom it may concern:   A group of parents  ...\n",
       "287      9  To Teachers and Whom It May Concern:    A prop...\n",
       "288      6  Having complicated characters in a book makes ...\n",
       "\n",
       "[289 rows x 2 columns]"
      ]
     },
     "execution_count": 291,
     "metadata": {},
     "output_type": "execute_result"
    }
   ],
   "source": [
    "df_no_titles = pd.read_csv('../data/samples_no_titles.csv',\n",
    "                   skipinitialspace=True,\n",
    "                   sep=',', \n",
    "                   quotechar='\"', \n",
    "                   escapechar='\\\\',\n",
    "                   error_bad_lines=False,\n",
    "                    usecols = ['Grade','Text'])\n",
    "df_no_titles"
   ]
  },
  {
   "cell_type": "code",
   "execution_count": 292,
   "metadata": {
    "extensions": {
     "jupyter_dashboards": {
      "activeView": "grid_default",
      "views": {
       "grid_default": {
        "col": null,
        "height": 2,
        "hidden": true,
        "row": null,
        "width": 2
       }
      }
     }
    }
   },
   "outputs": [
    {
     "name": "stdout",
     "output_type": "stream",
     "text": [
      "<class 'pandas.core.frame.DataFrame'>\n",
      "RangeIndex: 289 entries, 0 to 288\n",
      "Data columns (total 2 columns):\n",
      " #   Column  Non-Null Count  Dtype \n",
      "---  ------  --------------  ----- \n",
      " 0   Grade   289 non-null    int64 \n",
      " 1   Text    289 non-null    object\n",
      "dtypes: int64(1), object(1)\n",
      "memory usage: 4.6+ KB\n"
     ]
    }
   ],
   "source": [
    "df.info()"
   ]
  },
  {
   "cell_type": "code",
   "execution_count": 293,
   "metadata": {
    "extensions": {
     "jupyter_dashboards": {
      "activeView": "grid_default",
      "views": {
       "grid_default": {
        "col": null,
        "height": 2,
        "hidden": true,
        "row": null,
        "width": 2
       }
      }
     }
    }
   },
   "outputs": [
    {
     "data": {
      "text/plain": [
       "0     18\n",
       "1     30\n",
       "2     37\n",
       "3     34\n",
       "4     36\n",
       "5     18\n",
       "6     47\n",
       "7      8\n",
       "8      8\n",
       "9     44\n",
       "10     2\n",
       "11     4\n",
       "12     3\n",
       "Name: Grade, dtype: int64"
      ]
     },
     "execution_count": 293,
     "metadata": {},
     "output_type": "execute_result"
    }
   ],
   "source": [
    "df.Grade.value_counts().sort_index()"
   ]
  },
  {
   "cell_type": "markdown",
   "metadata": {
    "extensions": {
     "jupyter_dashboards": {
      "activeView": "grid_default",
      "views": {
       "grid_default": {
        "col": null,
        "height": 2,
        "hidden": true,
        "row": null,
        "width": 2
       }
      }
     }
    }
   },
   "source": [
    "nltk_tag_to_wordnet_tag() courtesy of [Gaurav Gupta](https://medium.com/@gaurav5430/using-nltk-for-lemmatizing-sentences-c1bfff963258)"
   ]
  },
  {
   "cell_type": "code",
   "execution_count": 294,
   "metadata": {
    "extensions": {
     "jupyter_dashboards": {
      "activeView": "grid_default",
      "views": {
       "grid_default": {
        "col": null,
        "height": 2,
        "hidden": true,
        "row": null,
        "width": 2
       }
      }
     }
    }
   },
   "outputs": [],
   "source": [
    "def unique_characters(series):\n",
    "    unique = set([])\n",
    "    for text in series:\n",
    "        characters = set(text)\n",
    "        unique = unique.union(characters)\n",
    "    return unique\n",
    "\n",
    "def nltk_tag_to_wordnet_tag(nltk_tag):\n",
    "    if nltk_tag.startswith('J'):\n",
    "        return wordnet.ADJ\n",
    "    elif nltk_tag.startswith('V'):\n",
    "        return wordnet.VERB\n",
    "    elif nltk_tag.startswith('N'):\n",
    "        return wordnet.NOUN\n",
    "    elif nltk_tag.startswith('R'):\n",
    "        return wordnet.ADV\n",
    "    else:          \n",
    "        return None    \n",
    "    \n",
    "def retag(tagged_list):\n",
    "    return [(w[0], nltk_tag_to_wordnet_tag(w[1])) for w in tagged_list]\n",
    "\n",
    "def lemma(tagged_tokens):\n",
    "    lemmatizer = WordNetLemmatizer()\n",
    "    lemmas = []\n",
    "    for w in tagged_tokens:\n",
    "        if w[1] is None:\n",
    "            lemmas.append(lemmatizer.lemmatize(w[0]))\n",
    "        else:\n",
    "            lemmas.append(lemmatizer.lemmatize(w[0],w[1]))                   \n",
    "    return lemmas\n",
    "\n",
    "def lower_case(string):\n",
    "    return string.lower()\n",
    "\n",
    "def letters(string):\n",
    "    letters = re.findall('[a-z]+',string)\n",
    "    return letters\n",
    "\n",
    "def clean_tokenize(series):\n",
    "    return series.apply(lower_case).apply(letters)\n",
    "\n",
    "def lemmatize(series):\n",
    "    return series.apply(pos_tag).apply(retag).apply(lemma)\n",
    "\n",
    "def replace_urls(series):\n",
    "    return series.str.replace('www.','',regex=False).replace('\\w*\\.\\w{2,}', value = \"*url\", regex=True)\n",
    "\n",
    "def isolate_punctuation(string):\n",
    "    for punct in punctuation.replace('*',''):\n",
    "        string = string.replace(punct,f' {punct} ').replace('  ',' ')\n",
    "    return string\n",
    "\n",
    "def tag_uppercase(series):\n",
    "    repl = lambda w: f'+ {w.group(0).lower()}'\n",
    "    return series.str.replace('[A-Z]\\w+',repl,regex=True)\n",
    "\n",
    "def remove_weird_chars(string):\n",
    "    weird_chars = [ '¦', '©', '±', '³', '½', 'Â', 'Ã', 'â', '“', '”', '€']\n",
    "    return ''.join([c for c in string if c not in weird_chars])\n",
    "\n",
    "def grammar_text(series):\n",
    "    series = replace_urls(series)\n",
    "    series = series.apply(remove_weird_chars).apply(isolate_punctuation)\n",
    "    series = tag_uppercase(series)\n",
    "    return series\n",
    "\n",
    "def lemma_text(series):\n",
    "    series = clean_tokenize(series)\n",
    "    series = lemmatize(series)\n",
    "    return series"
   ]
  },
  {
   "cell_type": "code",
   "execution_count": 295,
   "metadata": {
    "extensions": {
     "jupyter_dashboards": {
      "activeView": "grid_default",
      "views": {
       "grid_default": {
        "col": null,
        "height": 2,
        "hidden": true,
        "row": null,
        "width": 2
       }
      }
     }
    }
   },
   "outputs": [
    {
     "data": {
      "text/html": [
       "<div>\n",
       "<style scoped>\n",
       "    .dataframe tbody tr th:only-of-type {\n",
       "        vertical-align: middle;\n",
       "    }\n",
       "\n",
       "    .dataframe tbody tr th {\n",
       "        vertical-align: top;\n",
       "    }\n",
       "\n",
       "    .dataframe thead th {\n",
       "        text-align: right;\n",
       "    }\n",
       "</style>\n",
       "<table border=\"1\" class=\"dataframe\">\n",
       "  <thead>\n",
       "    <tr style=\"text-align: right;\">\n",
       "      <th></th>\n",
       "      <th>Grade</th>\n",
       "      <th>Text</th>\n",
       "      <th>lemmatized</th>\n",
       "      <th>grammarized</th>\n",
       "    </tr>\n",
       "  </thead>\n",
       "  <tbody>\n",
       "    <tr>\n",
       "      <th>0</th>\n",
       "      <td>1</td>\n",
       "      <td>How Much I Know About Space I had just gone to...</td>\n",
       "      <td>[how, much, i, know, about, space, i, have, ju...</td>\n",
       "      <td>+ how + much I + know + about + space I had ju...</td>\n",
       "    </tr>\n",
       "    <tr>\n",
       "      <th>1</th>\n",
       "      <td>1</td>\n",
       "      <td>My Favorite Pet My cat is fluffy. His name is ...</td>\n",
       "      <td>[my, favorite, pet, my, cat, be, fluffy, his, ...</td>\n",
       "      <td>+ my + favorite + pet + my cat is fluffy . + h...</td>\n",
       "    </tr>\n",
       "    <tr>\n",
       "      <th>2</th>\n",
       "      <td>1</td>\n",
       "      <td>Sweet Spring Spring is sweet because we can go...</td>\n",
       "      <td>[sweet, spring, spring, be, sweet, because, we...</td>\n",
       "      <td>+ sweet + spring + spring is sweet because we ...</td>\n",
       "    </tr>\n",
       "    <tr>\n",
       "      <th>3</th>\n",
       "      <td>1</td>\n",
       "      <td>A Happy Day One day baby Josh came home. He wa...</td>\n",
       "      <td>[a, happy, day, one, day, baby, josh, come, ho...</td>\n",
       "      <td>A + happy + day + one day baby + josh came hom...</td>\n",
       "    </tr>\n",
       "    <tr>\n",
       "      <th>4</th>\n",
       "      <td>1</td>\n",
       "      <td>My Trip to Mexico One time I went to Mexico. I...</td>\n",
       "      <td>[my, trip, to, mexico, one, time, i, go, to, m...</td>\n",
       "      <td>+ my + trip to + mexico + one time I went to +...</td>\n",
       "    </tr>\n",
       "    <tr>\n",
       "      <th>...</th>\n",
       "      <td>...</td>\n",
       "      <td>...</td>\n",
       "      <td>...</td>\n",
       "      <td>...</td>\n",
       "    </tr>\n",
       "    <tr>\n",
       "      <th>284</th>\n",
       "      <td>0</td>\n",
       "      <td>Make Way for Ducklings I like Make Way for Duc...</td>\n",
       "      <td>[make, way, for, duckling, i, like, make, way,...</td>\n",
       "      <td>+ make + way for + ducklings I like + make + w...</td>\n",
       "    </tr>\n",
       "    <tr>\n",
       "      <th>285</th>\n",
       "      <td>0</td>\n",
       "      <td>My mom is special because she plays with me.</td>\n",
       "      <td>[my, mom, be, special, because, she, play, wit...</td>\n",
       "      <td>+ my mom is special because she plays with me .</td>\n",
       "    </tr>\n",
       "    <tr>\n",
       "      <th>286</th>\n",
       "      <td>11</td>\n",
       "      <td>To whom it may concern: A group of parents and...</td>\n",
       "      <td>[to, whom, it, may, concern, a, group, of, par...</td>\n",
       "      <td>+ to whom it may concern : A group of parents ...</td>\n",
       "    </tr>\n",
       "    <tr>\n",
       "      <th>287</th>\n",
       "      <td>9</td>\n",
       "      <td>To Teachers and Whom It May Concern: A proposa...</td>\n",
       "      <td>[to, teacher, and, whom, it, may, concern, a, ...</td>\n",
       "      <td>+ to + teachers and + whom + it + may + concer...</td>\n",
       "    </tr>\n",
       "    <tr>\n",
       "      <th>288</th>\n",
       "      <td>6</td>\n",
       "      <td>Tom Sawyer Having complicated characters in a ...</td>\n",
       "      <td>[tom, sawyer, have, complicate, character, in,...</td>\n",
       "      <td>+ tom + sawyer + having complicated characters...</td>\n",
       "    </tr>\n",
       "  </tbody>\n",
       "</table>\n",
       "<p>289 rows × 4 columns</p>\n",
       "</div>"
      ],
      "text/plain": [
       "     Grade                                               Text  \\\n",
       "0        1  How Much I Know About Space I had just gone to...   \n",
       "1        1  My Favorite Pet My cat is fluffy. His name is ...   \n",
       "2        1  Sweet Spring Spring is sweet because we can go...   \n",
       "3        1  A Happy Day One day baby Josh came home. He wa...   \n",
       "4        1  My Trip to Mexico One time I went to Mexico. I...   \n",
       "..     ...                                                ...   \n",
       "284      0  Make Way for Ducklings I like Make Way for Duc...   \n",
       "285      0       My mom is special because she plays with me.   \n",
       "286     11  To whom it may concern: A group of parents and...   \n",
       "287      9  To Teachers and Whom It May Concern: A proposa...   \n",
       "288      6  Tom Sawyer Having complicated characters in a ...   \n",
       "\n",
       "                                            lemmatized  \\\n",
       "0    [how, much, i, know, about, space, i, have, ju...   \n",
       "1    [my, favorite, pet, my, cat, be, fluffy, his, ...   \n",
       "2    [sweet, spring, spring, be, sweet, because, we...   \n",
       "3    [a, happy, day, one, day, baby, josh, come, ho...   \n",
       "4    [my, trip, to, mexico, one, time, i, go, to, m...   \n",
       "..                                                 ...   \n",
       "284  [make, way, for, duckling, i, like, make, way,...   \n",
       "285  [my, mom, be, special, because, she, play, wit...   \n",
       "286  [to, whom, it, may, concern, a, group, of, par...   \n",
       "287  [to, teacher, and, whom, it, may, concern, a, ...   \n",
       "288  [tom, sawyer, have, complicate, character, in,...   \n",
       "\n",
       "                                           grammarized  \n",
       "0    + how + much I + know + about + space I had ju...  \n",
       "1    + my + favorite + pet + my cat is fluffy . + h...  \n",
       "2    + sweet + spring + spring is sweet because we ...  \n",
       "3    A + happy + day + one day baby + josh came hom...  \n",
       "4    + my + trip to + mexico + one time I went to +...  \n",
       "..                                                 ...  \n",
       "284  + make + way for + ducklings I like + make + w...  \n",
       "285   + my mom is special because she plays with me .   \n",
       "286  + to whom it may concern : A group of parents ...  \n",
       "287  + to + teachers and + whom + it + may + concer...  \n",
       "288  + tom + sawyer + having complicated characters...  \n",
       "\n",
       "[289 rows x 4 columns]"
      ]
     },
     "execution_count": 295,
     "metadata": {},
     "output_type": "execute_result"
    }
   ],
   "source": [
    "df['lemmatized'] = lemma_text(df.Text)\n",
    "df['grammarized'] = grammar_text(df.Text)\n",
    "df"
   ]
  },
  {
   "cell_type": "code",
   "execution_count": 296,
   "metadata": {
    "extensions": {
     "jupyter_dashboards": {
      "activeView": "grid_default",
      "views": {
       "grid_default": {
        "col": null,
        "height": 2,
        "hidden": true,
        "row": null,
        "width": 2
       }
      }
     }
    }
   },
   "outputs": [
    {
     "data": {
      "text/plain": [
       "dtype('int64')"
      ]
     },
     "execution_count": 296,
     "metadata": {},
     "output_type": "execute_result"
    }
   ],
   "source": [
    "df.Grade.dtype"
   ]
  },
  {
   "cell_type": "code",
   "execution_count": 297,
   "metadata": {
    "extensions": {
     "jupyter_dashboards": {
      "activeView": "grid_default",
      "views": {
       "grid_default": {
        "col": null,
        "height": 2,
        "hidden": true,
        "row": null,
        "width": 2
       }
      }
     }
    }
   },
   "outputs": [],
   "source": [
    "## Split train and test sets\n",
    "X = df['lemmatized'].str.join(' ')\n",
    "df.Grade = df.Grade.astype(str)\n",
    "df.loc[df['Grade'].isin(['10','11','12']), 'Grade'] = '10'\n",
    "y = df.Grade\n",
    "X_train, X_test, y_train, y_test = train_test_split(X, y, stratify=y)"
   ]
  },
  {
   "cell_type": "code",
   "execution_count": 298,
   "metadata": {
    "extensions": {
     "jupyter_dashboards": {
      "activeView": "grid_default",
      "views": {
       "grid_default": {
        "col": null,
        "height": 2,
        "hidden": true,
        "row": null,
        "width": 2
       }
      }
     }
    }
   },
   "outputs": [
    {
     "data": {
      "text/plain": [
       "6     12\n",
       "9     11\n",
       "3      9\n",
       "4      9\n",
       "2      9\n",
       "1      8\n",
       "5      5\n",
       "0      4\n",
       "8      2\n",
       "10     2\n",
       "7      2\n",
       "Name: Grade, dtype: int64"
      ]
     },
     "execution_count": 298,
     "metadata": {},
     "output_type": "execute_result"
    }
   ],
   "source": [
    "y_test.value_counts()"
   ]
  },
  {
   "cell_type": "code",
   "execution_count": 299,
   "metadata": {
    "extensions": {
     "jupyter_dashboards": {
      "activeView": "grid_default",
      "views": {
       "grid_default": {
        "col": null,
        "height": 2,
        "hidden": true,
        "row": null,
        "width": 2
       }
      }
     }
    }
   },
   "outputs": [
    {
     "data": {
      "text/plain": [
       "6     35\n",
       "9     33\n",
       "2     28\n",
       "4     27\n",
       "3     25\n",
       "1     22\n",
       "0     14\n",
       "5     13\n",
       "10     7\n",
       "8      6\n",
       "7      6\n",
       "Name: Grade, dtype: int64"
      ]
     },
     "execution_count": 299,
     "metadata": {},
     "output_type": "execute_result"
    }
   ],
   "source": [
    "y_train.value_counts()"
   ]
  },
  {
   "cell_type": "code",
   "execution_count": 300,
   "metadata": {
    "extensions": {
     "jupyter_dashboards": {
      "activeView": "grid_default",
      "views": {
       "grid_default": {
        "col": null,
        "height": 2,
        "hidden": true,
        "row": null,
        "width": 2
       }
      }
     }
    }
   },
   "outputs": [
    {
     "data": {
      "text/plain": [
       "array([[0., 0., 0., ..., 0., 0., 0.],\n",
       "       [0., 0., 0., ..., 0., 0., 0.],\n",
       "       [0., 0., 0., ..., 0., 0., 0.],\n",
       "       ...,\n",
       "       [0., 0., 0., ..., 0., 0., 0.],\n",
       "       [0., 0., 0., ..., 0., 0., 0.],\n",
       "       [0., 0., 0., ..., 0., 0., 0.]])"
      ]
     },
     "execution_count": 300,
     "metadata": {},
     "output_type": "execute_result"
    }
   ],
   "source": [
    "import numpy as np\n",
    "tfidfer = TfidfVectorizer()\n",
    "X_train_vec = tfidfer.fit_transform(X_train).toarray()\n",
    "X_test_vec = tfidfer.transform(X_test).toarray()\n",
    "X_test_vec"
   ]
  },
  {
   "cell_type": "markdown",
   "metadata": {},
   "source": [
    "## TFIDF First Simple Model\n",
    "Logistic Regression out of the box, n-grams=1"
   ]
  },
  {
   "cell_type": "code",
   "execution_count": 305,
   "metadata": {},
   "outputs": [
    {
     "name": "stdout",
     "output_type": "stream",
     "text": [
      "Relative Error Size is  0.3970149253731343\n"
     ]
    },
    {
     "data": {
      "text/html": [
       "<div>\n",
       "<style scoped>\n",
       "    .dataframe tbody tr th:only-of-type {\n",
       "        vertical-align: middle;\n",
       "    }\n",
       "\n",
       "    .dataframe tbody tr th {\n",
       "        vertical-align: top;\n",
       "    }\n",
       "\n",
       "    .dataframe thead th {\n",
       "        text-align: right;\n",
       "    }\n",
       "</style>\n",
       "<table border=\"1\" class=\"dataframe\">\n",
       "  <thead>\n",
       "    <tr style=\"text-align: right;\">\n",
       "      <th></th>\n",
       "      <th>Text</th>\n",
       "      <th>Actual Grade</th>\n",
       "      <th>Model Prediction</th>\n",
       "    </tr>\n",
       "  </thead>\n",
       "  <tbody>\n",
       "    <tr>\n",
       "      <th>80</th>\n",
       "      <td>i go camp and we eat lunch outside i get to dr...</td>\n",
       "      <td>0</td>\n",
       "      <td>3</td>\n",
       "    </tr>\n",
       "    <tr>\n",
       "      <th>171</th>\n",
       "      <td>should smoke be ban in public restaurant in th...</td>\n",
       "      <td>9</td>\n",
       "      <td>9</td>\n",
       "    </tr>\n",
       "    <tr>\n",
       "      <th>63</th>\n",
       "      <td>my backyard my backyard breathe life the plant...</td>\n",
       "      <td>6</td>\n",
       "      <td>6</td>\n",
       "    </tr>\n",
       "    <tr>\n",
       "      <th>255</th>\n",
       "      <td>frustration i dip my fountain pen into the ink...</td>\n",
       "      <td>5</td>\n",
       "      <td>9</td>\n",
       "    </tr>\n",
       "    <tr>\n",
       "      <th>123</th>\n",
       "      <td>a bitter friendship continue a bitter friendsh...</td>\n",
       "      <td>6</td>\n",
       "      <td>6</td>\n",
       "    </tr>\n",
       "    <tr>\n",
       "      <th>176</th>\n",
       "      <td>uffalo get lose he try to find a posse really ...</td>\n",
       "      <td>1</td>\n",
       "      <td>1</td>\n",
       "    </tr>\n",
       "    <tr>\n",
       "      <th>18</th>\n",
       "      <td>how to make boiled egg material a pan hot wate...</td>\n",
       "      <td>3</td>\n",
       "      <td>6</td>\n",
       "    </tr>\n",
       "    <tr>\n",
       "      <th>111</th>\n",
       "      <td>january dear mr president today be probably on...</td>\n",
       "      <td>4</td>\n",
       "      <td>6</td>\n",
       "    </tr>\n",
       "    <tr>\n",
       "      <th>184</th>\n",
       "      <td>ain war me and my big brother the pain welcome...</td>\n",
       "      <td>3</td>\n",
       "      <td>9</td>\n",
       "    </tr>\n",
       "    <tr>\n",
       "      <th>78</th>\n",
       "      <td>mosquito madness im drift off to sleep listeni...</td>\n",
       "      <td>9</td>\n",
       "      <td>9</td>\n",
       "    </tr>\n",
       "    <tr>\n",
       "      <th>186</th>\n",
       "      <td>my and olivias adventure once there be two tur...</td>\n",
       "      <td>3</td>\n",
       "      <td>3</td>\n",
       "    </tr>\n",
       "    <tr>\n",
       "      <th>30</th>\n",
       "      <td>adopt a pet from the pound own a pet from the ...</td>\n",
       "      <td>4</td>\n",
       "      <td>6</td>\n",
       "    </tr>\n",
       "    <tr>\n",
       "      <th>145</th>\n",
       "      <td>an education last a lifetime an education last...</td>\n",
       "      <td>9</td>\n",
       "      <td>6</td>\n",
       "    </tr>\n",
       "    <tr>\n",
       "      <th>2</th>\n",
       "      <td>sweet spring spring be sweet because we can go...</td>\n",
       "      <td>1</td>\n",
       "      <td>3</td>\n",
       "    </tr>\n",
       "    <tr>\n",
       "      <th>268</th>\n",
       "      <td>play me in the real world i be insecure i walk...</td>\n",
       "      <td>10</td>\n",
       "      <td>9</td>\n",
       "    </tr>\n",
       "    <tr>\n",
       "      <th>221</th>\n",
       "      <td>what claudette colvin do learn about how claud...</td>\n",
       "      <td>5</td>\n",
       "      <td>6</td>\n",
       "    </tr>\n",
       "    <tr>\n",
       "      <th>225</th>\n",
       "      <td>jean baptiste de lamarck and charles darwin be...</td>\n",
       "      <td>7</td>\n",
       "      <td>6</td>\n",
       "    </tr>\n",
       "    <tr>\n",
       "      <th>129</th>\n",
       "      <td>the food war simon wilken be snack down on a p...</td>\n",
       "      <td>6</td>\n",
       "      <td>9</td>\n",
       "    </tr>\n",
       "    <tr>\n",
       "      <th>208</th>\n",
       "      <td>chester way by kevin henkes be a storey about ...</td>\n",
       "      <td>1</td>\n",
       "      <td>2</td>\n",
       "    </tr>\n",
       "    <tr>\n",
       "      <th>35</th>\n",
       "      <td>jet bike have you ever run a business from a p...</td>\n",
       "      <td>4</td>\n",
       "      <td>3</td>\n",
       "    </tr>\n",
       "  </tbody>\n",
       "</table>\n",
       "</div>"
      ],
      "text/plain": [
       "                                                  Text Actual Grade  \\\n",
       "80   i go camp and we eat lunch outside i get to dr...            0   \n",
       "171  should smoke be ban in public restaurant in th...            9   \n",
       "63   my backyard my backyard breathe life the plant...            6   \n",
       "255  frustration i dip my fountain pen into the ink...            5   \n",
       "123  a bitter friendship continue a bitter friendsh...            6   \n",
       "176  uffalo get lose he try to find a posse really ...            1   \n",
       "18   how to make boiled egg material a pan hot wate...            3   \n",
       "111  january dear mr president today be probably on...            4   \n",
       "184  ain war me and my big brother the pain welcome...            3   \n",
       "78   mosquito madness im drift off to sleep listeni...            9   \n",
       "186  my and olivias adventure once there be two tur...            3   \n",
       "30   adopt a pet from the pound own a pet from the ...            4   \n",
       "145  an education last a lifetime an education last...            9   \n",
       "2    sweet spring spring be sweet because we can go...            1   \n",
       "268  play me in the real world i be insecure i walk...           10   \n",
       "221  what claudette colvin do learn about how claud...            5   \n",
       "225  jean baptiste de lamarck and charles darwin be...            7   \n",
       "129  the food war simon wilken be snack down on a p...            6   \n",
       "208  chester way by kevin henkes be a storey about ...            1   \n",
       "35   jet bike have you ever run a business from a p...            4   \n",
       "\n",
       "    Model Prediction  \n",
       "80                 3  \n",
       "171                9  \n",
       "63                 6  \n",
       "255                9  \n",
       "123                6  \n",
       "176                1  \n",
       "18                 6  \n",
       "111                6  \n",
       "184                9  \n",
       "78                 9  \n",
       "186                3  \n",
       "30                 6  \n",
       "145                6  \n",
       "2                  3  \n",
       "268                9  \n",
       "221                6  \n",
       "225                6  \n",
       "129                9  \n",
       "208                2  \n",
       "35                 3  "
      ]
     },
     "execution_count": 305,
     "metadata": {},
     "output_type": "execute_result"
    }
   ],
   "source": [
    "from sklearn.linear_model import LogisticRegression\n",
    "lr_vec = LogisticRegression()\n",
    "lr_vec.fit(X_train_vec, y_train)\n",
    "lr_vec.score(X_test_vec, y_test)\n",
    "yhat = lr_vec.predict(X_test_vec)\n",
    "errors = pd.DataFrame({'Text':X_test,'Actual Grade':y_test,'Model Prediction':yhat})\n",
    "error_size = sum(np.abs(errors['Actual Grade'].astype(int) - errors['Model Prediction'].astype(int)))/errors['Actual Grade'].astype(int).sum()\n",
    "print('Relative Error Size is ', error_size)\n",
    "errors.head(20)"
   ]
  },
  {
   "cell_type": "code",
   "execution_count": 304,
   "metadata": {},
   "outputs": [
    {
     "name": "stdout",
     "output_type": "stream",
     "text": [
      "Relative Error Size is  0.3970149253731343\n"
     ]
    }
   ],
   "source": []
  },
  {
   "cell_type": "code",
   "execution_count": null,
   "metadata": {},
   "outputs": [],
   "source": []
  },
  {
   "cell_type": "code",
   "execution_count": null,
   "metadata": {},
   "outputs": [],
   "source": []
  }
 ],
 "metadata": {
  "extensions": {
   "jupyter_dashboards": {
    "activeView": "grid_default",
    "version": 1,
    "views": {
     "grid_default": {
      "cellMargin": 10,
      "defaultCellHeight": 60,
      "maxColumns": 12,
      "name": "grid",
      "type": "grid"
     }
    }
   }
  },
  "kernelspec": {
   "display_name": "Python 3",
   "language": "python",
   "name": "python3"
  },
  "language_info": {
   "codemirror_mode": {
    "name": "ipython",
    "version": 3
   },
   "file_extension": ".py",
   "mimetype": "text/x-python",
   "name": "python",
   "nbconvert_exporter": "python",
   "pygments_lexer": "ipython3",
   "version": "3.8.3"
  }
 },
 "nbformat": 4,
 "nbformat_minor": 4
}
