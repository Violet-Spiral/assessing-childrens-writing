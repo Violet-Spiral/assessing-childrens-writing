{
 "cells": [
  {
   "cell_type": "markdown",
   "metadata": {},
   "source": [
    "## TFIDF First Simple Model\n",
    "Logistic Regression out of the box, n-grams=1"
   ]
  },
  {
   "cell_type": "code",
   "execution_count": 139,
   "metadata": {},
   "outputs": [],
   "source": [
    "import pandas as pd\n",
    "import numpy as np\n",
    "\n",
    "from sklearn.linear_model import LogisticRegression\n",
    "from sklearn.tree import DecisionTreeClassifier\n",
    "from sklearn.model_selection import train_test_split, cross_val_score\n",
    "from sklearn.feature_extraction.text import TfidfVectorizer, CountVectorizer\n",
    "from sklearn.pipeline import Pipeline\n",
    "\n",
    "import re\n",
    "\n",
    "import warnings\n",
    "warnings.filterwarnings('ignore')"
   ]
  },
  {
   "cell_type": "code",
   "execution_count": 65,
   "metadata": {},
   "outputs": [
    {
     "data": {
      "text/html": [
       "<div>\n",
       "<style scoped>\n",
       "    .dataframe tbody tr th:only-of-type {\n",
       "        vertical-align: middle;\n",
       "    }\n",
       "\n",
       "    .dataframe tbody tr th {\n",
       "        vertical-align: top;\n",
       "    }\n",
       "\n",
       "    .dataframe thead th {\n",
       "        text-align: right;\n",
       "    }\n",
       "</style>\n",
       "<table border=\"1\" class=\"dataframe\">\n",
       "  <thead>\n",
       "    <tr style=\"text-align: right;\">\n",
       "      <th></th>\n",
       "      <th>Grade</th>\n",
       "      <th>Text</th>\n",
       "      <th>lemmatized</th>\n",
       "      <th>grammarized</th>\n",
       "    </tr>\n",
       "  </thead>\n",
       "  <tbody>\n",
       "    <tr>\n",
       "      <th>0</th>\n",
       "      <td>1</td>\n",
       "      <td>I had just gone to Chobot Space and Science Ce...</td>\n",
       "      <td>i have just go to chobot space and science cen...</td>\n",
       "      <td>I had just gone to + chobot + space and + scie...</td>\n",
       "    </tr>\n",
       "    <tr>\n",
       "      <th>1</th>\n",
       "      <td>1</td>\n",
       "      <td>My cat is fluffy. His name is Buzz. He is my f...</td>\n",
       "      <td>my cat be fluffy his name be buzz he be my fav...</td>\n",
       "      <td>+ my cat is fluffy . + his name is + buzz . + ...</td>\n",
       "    </tr>\n",
       "    <tr>\n",
       "      <th>2</th>\n",
       "      <td>1</td>\n",
       "      <td>Spring is sweet because we can go boat riding ...</td>\n",
       "      <td>spring be sweet because we can go boat riding ...</td>\n",
       "      <td>+ spring is sweet because we can go boat ridin...</td>\n",
       "    </tr>\n",
       "    <tr>\n",
       "      <th>3</th>\n",
       "      <td>1</td>\n",
       "      <td>One day baby Josh came home. He was in a yello...</td>\n",
       "      <td>one day baby josh come home he be in a yellow ...</td>\n",
       "      <td>+ one day baby + josh came home . + he was in ...</td>\n",
       "    </tr>\n",
       "    <tr>\n",
       "      <th>4</th>\n",
       "      <td>1</td>\n",
       "      <td>One time I went to Mexico. It was a blast! I m...</td>\n",
       "      <td>one time i go to mexico it be a blast i meet p...</td>\n",
       "      <td>+ one time I went to + mexico . + it was a bla...</td>\n",
       "    </tr>\n",
       "  </tbody>\n",
       "</table>\n",
       "</div>"
      ],
      "text/plain": [
       "   Grade                                               Text  \\\n",
       "0      1  I had just gone to Chobot Space and Science Ce...   \n",
       "1      1  My cat is fluffy. His name is Buzz. He is my f...   \n",
       "2      1  Spring is sweet because we can go boat riding ...   \n",
       "3      1  One day baby Josh came home. He was in a yello...   \n",
       "4      1  One time I went to Mexico. It was a blast! I m...   \n",
       "\n",
       "                                          lemmatized  \\\n",
       "0  i have just go to chobot space and science cen...   \n",
       "1  my cat be fluffy his name be buzz he be my fav...   \n",
       "2  spring be sweet because we can go boat riding ...   \n",
       "3  one day baby josh come home he be in a yellow ...   \n",
       "4  one time i go to mexico it be a blast i meet p...   \n",
       "\n",
       "                                         grammarized  \n",
       "0  I had just gone to + chobot + space and + scie...  \n",
       "1  + my cat is fluffy . + his name is + buzz . + ...  \n",
       "2  + spring is sweet because we can go boat ridin...  \n",
       "3  + one day baby + josh came home . + he was in ...  \n",
       "4  + one time I went to + mexico . + it was a bla...  "
      ]
     },
     "execution_count": 65,
     "metadata": {},
     "output_type": "execute_result"
    }
   ],
   "source": [
    "df = pd.read_csv('processed_text')\n",
    "df.head()"
   ]
  },
  {
   "cell_type": "code",
   "execution_count": 158,
   "metadata": {},
   "outputs": [],
   "source": [
    "def assess_model(model, scores, X_train, y_train, ngram_range=(1,3)):\n",
    "    for ngram in range(ngram_range[0],ngram_range[1]+1):\n",
    "        lr_count_pipe = Pipeline([('vectorizer', CountVectorizer(ngram_range=(1,ngram))),\n",
    "                                  ('logreg', model)])\n",
    "\n",
    "        lemma_scores = [round(x,3)*100 for x in cross_val_score(lr_count_pipe, X_train['lemmatized'], y_train, cv=3)]\n",
    "        grammar_scores = [round(x,3)*100 for x in cross_val_score(lr_count_pipe, X_train['grammarized'], y_train, cv=3)]\n",
    "        scores = scores.append({'model':'Decision Tree Classifier',\n",
    "                        'encoding':'Count Vectors',\n",
    "                        'ngram':ngram,\n",
    "                       'lemmas':lemma_scores,\n",
    "                      'grammar':grammar_scores},\n",
    "                      ignore_index=True)\n",
    "\n",
    "        lr_tfidf_pipe = Pipeline([('vectorizer', TfidfVectorizer(ngram_range=(1,ngram))),\n",
    "                              ('logreg', model)])\n",
    "\n",
    "        lemma_scores = [round(x,3)*100 for x in cross_val_score(lr_tfidf_pipe, X_train['lemmatized'], y_train, cv=3)]\n",
    "        grammar_scores = [round(x,3)*100 for x in cross_val_score(lr_tfidf_pipe, X_train['grammarized'], y_train, cv=3)]\n",
    "        scores = scores.append({'model':'Decision Tree Classifier',\n",
    "                        'encoding':'TF-IDF Vectors',\n",
    "                        'ngram':ngram,\n",
    "                       'lemmas':lemma_scores,\n",
    "                      'grammar':grammar_scores},\n",
    "                      ignore_index=True)\n",
    "        print('finished ngram', ngram)\n",
    "        \n",
    "    return scores\n",
    "                 "
   ]
  },
  {
   "cell_type": "code",
   "execution_count": 152,
   "metadata": {},
   "outputs": [],
   "source": [
    "X = df[['lemmatized', 'grammarized']]\n",
    "y = df.Grade\n",
    "## Split lemma train and test sets\n",
    "\n",
    "X_train, X_test, y_train, y_test = train_test_split(X, y, stratify=y, random_state=11)\n",
    "scores = pd.DataFrame()"
   ]
  },
  {
   "cell_type": "code",
   "execution_count": 154,
   "metadata": {},
   "outputs": [
    {
     "name": "stdout",
     "output_type": "stream",
     "text": [
      "finished ngram 1\n",
      "finished ngram 2\n",
      "finished ngram 3\n"
     ]
    }
   ],
   "source": [
    "scores = assess_model(DecisionTreeClassifier(), scores, X_train, y_train, ngram_range=(1,3))"
   ]
  },
  {
   "cell_type": "code",
   "execution_count": 156,
   "metadata": {},
   "outputs": [
    {
     "name": "stdout",
     "output_type": "stream",
     "text": [
      "finished ngram 1\n",
      "finished ngram 2\n",
      "finished ngram 3\n"
     ]
    }
   ],
   "source": [
    "scores = assess_model(LogisticRegression(), scores, X_train, y_train, ngram_range=(1,3))"
   ]
  },
  {
   "cell_type": "code",
   "execution_count": 157,
   "metadata": {},
   "outputs": [
    {
     "data": {
      "text/html": [
       "<div>\n",
       "<style scoped>\n",
       "    .dataframe tbody tr th:only-of-type {\n",
       "        vertical-align: middle;\n",
       "    }\n",
       "\n",
       "    .dataframe tbody tr th {\n",
       "        vertical-align: top;\n",
       "    }\n",
       "\n",
       "    .dataframe thead th {\n",
       "        text-align: right;\n",
       "    }\n",
       "</style>\n",
       "<table border=\"1\" class=\"dataframe\">\n",
       "  <thead>\n",
       "    <tr style=\"text-align: right;\">\n",
       "      <th></th>\n",
       "      <th>encoding</th>\n",
       "      <th>grammar</th>\n",
       "      <th>lemmas</th>\n",
       "      <th>model</th>\n",
       "      <th>ngram</th>\n",
       "    </tr>\n",
       "  </thead>\n",
       "  <tbody>\n",
       "    <tr>\n",
       "      <th>0</th>\n",
       "      <td>Count Vectors</td>\n",
       "      <td>[0.259, 0.296, 0.212]</td>\n",
       "      <td>[0.259, 0.321, 0.175]</td>\n",
       "      <td>Decision Tree Classifier</td>\n",
       "      <td>1.0</td>\n",
       "    </tr>\n",
       "    <tr>\n",
       "      <th>1</th>\n",
       "      <td>TF-IDF Vectors</td>\n",
       "      <td>[0.198, 0.185, 0.25]</td>\n",
       "      <td>[0.173, 0.21, 0.238]</td>\n",
       "      <td>Decision Tree Classifier</td>\n",
       "      <td>1.0</td>\n",
       "    </tr>\n",
       "    <tr>\n",
       "      <th>2</th>\n",
       "      <td>Count Vectors</td>\n",
       "      <td>[0.272, 0.272, 0.2]</td>\n",
       "      <td>[0.136, 0.284, 0.188]</td>\n",
       "      <td>Decision Tree Classifier</td>\n",
       "      <td>2.0</td>\n",
       "    </tr>\n",
       "    <tr>\n",
       "      <th>3</th>\n",
       "      <td>TF-IDF Vectors</td>\n",
       "      <td>[0.185, 0.247, 0.225]</td>\n",
       "      <td>[0.136, 0.173, 0.238]</td>\n",
       "      <td>Decision Tree Classifier</td>\n",
       "      <td>2.0</td>\n",
       "    </tr>\n",
       "    <tr>\n",
       "      <th>4</th>\n",
       "      <td>Count Vectors</td>\n",
       "      <td>[0.259, 0.333, 0.225]</td>\n",
       "      <td>[0.173, 0.284, 0.188]</td>\n",
       "      <td>Decision Tree Classifier</td>\n",
       "      <td>3.0</td>\n",
       "    </tr>\n",
       "    <tr>\n",
       "      <th>5</th>\n",
       "      <td>TF-IDF Vectors</td>\n",
       "      <td>[0.136, 0.222, 0.225]</td>\n",
       "      <td>[0.16, 0.222, 0.212]</td>\n",
       "      <td>Decision Tree Classifier</td>\n",
       "      <td>3.0</td>\n",
       "    </tr>\n",
       "    <tr>\n",
       "      <th>6</th>\n",
       "      <td>Count Vectors</td>\n",
       "      <td>[0.235, 0.272, 0.188]</td>\n",
       "      <td>[0.222, 0.185, 0.175]</td>\n",
       "      <td>Decision Tree Classifier</td>\n",
       "      <td>1.0</td>\n",
       "    </tr>\n",
       "    <tr>\n",
       "      <th>7</th>\n",
       "      <td>TF-IDF Vectors</td>\n",
       "      <td>[0.198, 0.259, 0.188]</td>\n",
       "      <td>[0.235, 0.235, 0.2]</td>\n",
       "      <td>Decision Tree Classifier</td>\n",
       "      <td>1.0</td>\n",
       "    </tr>\n",
       "    <tr>\n",
       "      <th>8</th>\n",
       "      <td>Count Vectors</td>\n",
       "      <td>[0.247, 0.259, 0.175]</td>\n",
       "      <td>[0.222, 0.185, 0.162]</td>\n",
       "      <td>Decision Tree Classifier</td>\n",
       "      <td>2.0</td>\n",
       "    </tr>\n",
       "    <tr>\n",
       "      <th>9</th>\n",
       "      <td>TF-IDF Vectors</td>\n",
       "      <td>[0.198, 0.198, 0.15]</td>\n",
       "      <td>[0.21, 0.185, 0.162]</td>\n",
       "      <td>Decision Tree Classifier</td>\n",
       "      <td>2.0</td>\n",
       "    </tr>\n",
       "    <tr>\n",
       "      <th>10</th>\n",
       "      <td>Count Vectors</td>\n",
       "      <td>[0.222, 0.235, 0.15]</td>\n",
       "      <td>[0.247, 0.173, 0.188]</td>\n",
       "      <td>Decision Tree Classifier</td>\n",
       "      <td>3.0</td>\n",
       "    </tr>\n",
       "    <tr>\n",
       "      <th>11</th>\n",
       "      <td>TF-IDF Vectors</td>\n",
       "      <td>[0.185, 0.173, 0.138]</td>\n",
       "      <td>[0.198, 0.173, 0.125]</td>\n",
       "      <td>Decision Tree Classifier</td>\n",
       "      <td>3.0</td>\n",
       "    </tr>\n",
       "  </tbody>\n",
       "</table>\n",
       "</div>"
      ],
      "text/plain": [
       "          encoding                grammar                 lemmas  \\\n",
       "0    Count Vectors  [0.259, 0.296, 0.212]  [0.259, 0.321, 0.175]   \n",
       "1   TF-IDF Vectors   [0.198, 0.185, 0.25]   [0.173, 0.21, 0.238]   \n",
       "2    Count Vectors    [0.272, 0.272, 0.2]  [0.136, 0.284, 0.188]   \n",
       "3   TF-IDF Vectors  [0.185, 0.247, 0.225]  [0.136, 0.173, 0.238]   \n",
       "4    Count Vectors  [0.259, 0.333, 0.225]  [0.173, 0.284, 0.188]   \n",
       "5   TF-IDF Vectors  [0.136, 0.222, 0.225]   [0.16, 0.222, 0.212]   \n",
       "6    Count Vectors  [0.235, 0.272, 0.188]  [0.222, 0.185, 0.175]   \n",
       "7   TF-IDF Vectors  [0.198, 0.259, 0.188]    [0.235, 0.235, 0.2]   \n",
       "8    Count Vectors  [0.247, 0.259, 0.175]  [0.222, 0.185, 0.162]   \n",
       "9   TF-IDF Vectors   [0.198, 0.198, 0.15]   [0.21, 0.185, 0.162]   \n",
       "10   Count Vectors   [0.222, 0.235, 0.15]  [0.247, 0.173, 0.188]   \n",
       "11  TF-IDF Vectors  [0.185, 0.173, 0.138]  [0.198, 0.173, 0.125]   \n",
       "\n",
       "                       model  ngram  \n",
       "0   Decision Tree Classifier    1.0  \n",
       "1   Decision Tree Classifier    1.0  \n",
       "2   Decision Tree Classifier    2.0  \n",
       "3   Decision Tree Classifier    2.0  \n",
       "4   Decision Tree Classifier    3.0  \n",
       "5   Decision Tree Classifier    3.0  \n",
       "6   Decision Tree Classifier    1.0  \n",
       "7   Decision Tree Classifier    1.0  \n",
       "8   Decision Tree Classifier    2.0  \n",
       "9   Decision Tree Classifier    2.0  \n",
       "10  Decision Tree Classifier    3.0  \n",
       "11  Decision Tree Classifier    3.0  "
      ]
     },
     "execution_count": 157,
     "metadata": {},
     "output_type": "execute_result"
    }
   ],
   "source": [
    "scores"
   ]
  },
  {
   "cell_type": "code",
   "execution_count": 159,
   "metadata": {},
   "outputs": [
    {
     "data": {
      "text/plain": [
       "Grade          0\n",
       "Text           0\n",
       "lemmatized     0\n",
       "grammarized    0\n",
       "dtype: int64"
      ]
     },
     "execution_count": 159,
     "metadata": {},
     "output_type": "execute_result"
    }
   ],
   "source": [
    "df.isna().sum()"
   ]
  },
  {
   "cell_type": "code",
   "execution_count": null,
   "metadata": {},
   "outputs": [],
   "source": []
  }
 ],
 "metadata": {
  "kernelspec": {
   "display_name": "Python 3",
   "language": "python",
   "name": "python3"
  },
  "language_info": {
   "codemirror_mode": {
    "name": "ipython",
    "version": 3
   },
   "file_extension": ".py",
   "mimetype": "text/x-python",
   "name": "python",
   "nbconvert_exporter": "python",
   "pygments_lexer": "ipython3",
   "version": "3.8.3"
  }
 },
 "nbformat": 4,
 "nbformat_minor": 4
}
